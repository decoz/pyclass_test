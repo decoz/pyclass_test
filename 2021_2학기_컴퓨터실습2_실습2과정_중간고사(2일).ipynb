{
  "nbformat": 4,
  "nbformat_minor": 0,
  "metadata": {
    "colab": {
      "name": "2021_2학기_컴퓨터실습2_실습2과정_중간고사(2일).ipynb",
      "provenance": [],
      "collapsed_sections": []
    },
    "kernelspec": {
      "name": "python3",
      "display_name": "Python 3"
    },
    "language_info": {
      "name": "python"
    }
  },
  "cells": [
    {
      "cell_type": "markdown",
      "metadata": {
        "id": "H4iSXaD3INl3"
      },
      "source": [
        "## 푸시기 전에 .. \n",
        "\n",
        "```\n",
        "#### 중간고사 규칙:\n",
        "- 기말고사는 오픈북 형태로서 수업시간 자료와 외부 자료를 모두 조회, 참고 가능합니다. \n",
        "- 인터넷 검색도 가능하지만 타인과의 정보교환은 엄격히 금합니다. 적발시 바로 부정행위로 조치합니다. \n",
        "- 수험 시간은 시작 이후 1시간 30분까지입니다. \n",
        "- 점수는 작성하신 프로그램중에 가장 난이도가 높은 프로그램으로 반영됩니다. 그러므로 가장 난이도가 높은 프로그램 하나만 정확히 작성하셔도 만점입니다. \n",
        "- 어려운 문제에 매달리다 실패하는 위험을 줄이기 위해 자신있는 문제를 먼저 푸시고 도전할만한 문제를 푸시는걸 추천드립니다. \n",
        "- 수업시간에 알려드린 방식과 다르거나 지나치게 유사한 답안이 존재할 경우  본인이 푸신걸 확인하기 위한 절차를 요청할 수 있습니다. 이때 설명을 못하시면 부정시험으로 간주합니다. \n"
      ]
    },
    {
      "cell_type": "markdown",
      "metadata": {
        "id": "gbs21zbzDXG2"
      },
      "source": [
        "<hr> \n",
        "\n",
        "# 2021학년도 2학기 컴퓨터실습2 중간고사 (실습2과정)\n",
        "<br>\n",
        "\n",
        "#### 문제 1. n의 모든 약수를 배열로 리턴하는 divsor(n) 을 만드세요  [30점]\n",
        "```\n",
        "예: \n",
        "print( divisor(20) )\n",
        "->\n",
        "[2, 4, 5, 10]\n",
        "```"
      ]
    },
    {
      "cell_type": "code",
      "metadata": {
        "id": "hPTeESBhDKi8"
      },
      "source": [
        "\n",
        "def divisor(n):\n",
        "  _\n",
        "  # 문제 1 함수 코드를 작성하세요\n",
        "  \n",
        "\n",
        "# 출력 ( n을 바꾸며 테스트해보세요)\n",
        "print( divisor(100) )\n"
      ],
      "execution_count": null,
      "outputs": []
    },
    {
      "cell_type": "markdown",
      "metadata": {
        "id": "JOs6k1PgEGCl"
      },
      "source": [
        "\n",
        "\n",
        "---\n",
        "\n",
        "\n",
        "<Br><Br><Br>\n",
        "\n",
        "#### 문제 2. 임의의 문자열에서 연속으로 중복된 문자가 나올 경우 이를 중복대신 갯수로 출력하는 프로그램을 작성하세요 [45점]\n",
        "```\n",
        "예 : \n",
        "\"aabbbaaac\"\n",
        "->\n",
        "a2b3a3c1\n",
        "\n",
        "```"
      ]
    },
    {
      "cell_type": "code",
      "metadata": {
        "id": "FISlsBJbEGCm"
      },
      "source": [
        "s = \"aabbbaaac\"\n",
        "\n",
        "# 문제 1 코드를 작성하세요\n",
        "\n"
      ],
      "execution_count": null,
      "outputs": []
    },
    {
      "cell_type": "markdown",
      "metadata": {
        "id": "HsUzyANBbUpc"
      },
      "source": [
        "\n",
        "##<font color = 'red'> <문제 3-4번용 이미지 로딩 >\n",
        "\n",
        "아래에는 이미지문제를 위해 시험용 샘플이미지 로딩 코드입니다.  아래 문제를 풀기전에 반드시 실행하고 시작해주세요\n",
        "</font>\n"
      ]
    },
    {
      "cell_type": "code",
      "metadata": {
        "id": "Zl7Qk2afbudB"
      },
      "source": [
        "from PIL import Image\n",
        "from IPython.display import display\n",
        "import numpy as np \n",
        "from urllib import request\n",
        "\n",
        "# 이미지 열고 출력\n",
        "img = Image.open(request.urlopen(\"https://media.istockphoto.com/photos/small-orange-kitten-lie-on-the-bed-picture-id465257035?k=20&m=465257035&s=612x612&w=0&h=CCwis_Ynb8HkfA0Y1Y7JqffAucPJUFuBXwEaKXJO6G4=\") )\n",
        "display(img)\n",
        "print(\"size:\",img.size)\n"
      ],
      "execution_count": null,
      "outputs": []
    },
    {
      "cell_type": "markdown",
      "metadata": {
        "id": "MUHuRKXeEF4Q"
      },
      "source": [
        "<Br><Br><Br>\n",
        "\n",
        "#### 문제 3. 위의 이미지를 아래와 같이 변형해서 출력하세요 [50점]\n",
        "\n",
        "<img src='http://drive.google.com/uc?export=view&id=1KD0cZiXwZ0jzLDhn54E705dQ1_X8DRnO' /><br>\n",
        "\n"
      ]
    },
    {
      "cell_type": "code",
      "metadata": {
        "id": "DPPNykWIEFlI"
      },
      "source": [
        "# 이미지를 배열 arr 로 변환\n",
        "w, h = img.size\n",
        "arr = np.array(img).reshape(h, w, 3)\n",
        "\n",
        "# 문제 3의 코드를 작성하세요\n",
        "\n",
        "\n",
        "#이미지 출력     \n",
        "display(Image.fromarray(arr))\n",
        "\n",
        "\n"
      ],
      "execution_count": null,
      "outputs": []
    },
    {
      "cell_type": "markdown",
      "metadata": {
        "id": "9ibiE676bDLq"
      },
      "source": [
        "<Br><Br><Br>\n",
        "\n",
        "#### 문제 4. 임의의 x 좌표를 기준으로 좌우 200 픽셀에 걸쳐 점점 어두워지는 이미지를 생성하는 shadex(arr,cx) 함수를 만드세요 [60점]\n",
        "\n",
        "```\n",
        "예: \n",
        "display(Image.fromarray(shadex(arr, 300)) )\n",
        "\n",
        "```\n",
        "<img src='http://drive.google.com/uc?export=view&id=1KFzqR3kQzTHeLzZ4IIPqG0p0eWQby-WN' /><br>\n",
        "\n"
      ]
    },
    {
      "cell_type": "code",
      "metadata": {
        "id": "BtCaXVW1T39A"
      },
      "source": [
        "# 이미지를 배열 arr 로 변환\n",
        "w, h = img.size\n",
        "arr = np.array(img).reshape(h, w, 3)\n",
        "\n",
        "\n",
        "def shadex(arr,cx): \n",
        "  # 문제 4의 함수 코드를 작성하세요\n",
        "\n",
        "\n",
        "  # 결과 이미지 리턴\n",
        "  return arr\n",
        "\n",
        "# 이미지 변환, 출력 테스트 (cx 값을 변경하며 테스트해보세요)\n",
        "display(Image.fromarray(shadex(arr, 300)) )\n"
      ],
      "execution_count": null,
      "outputs": []
    },
    {
      "cell_type": "markdown",
      "metadata": {
        "id": "7DZqGQXERPMA"
      },
      "source": [
        "\n",
        "### 제출 시 참고 : \n",
        "- 과제 제출은 작성하신 colab을 [파일 > 다운로드 > ipynb] 메뉴를 통해 파일로 다운 받으신 후에 사이버캠퍼스 [중간고사 제출] 이라는 과제에 업로드하셔야 합니다.\n",
        "- 웹브라우저(크롬, ie, 엣지 파폭)의 메뉴가 아닌 colab 에 있는 다운로드를 사용하셔야 정상적으로 ipynb 로 다운로드 됩니다. \n"
      ]
    }
  ]
}