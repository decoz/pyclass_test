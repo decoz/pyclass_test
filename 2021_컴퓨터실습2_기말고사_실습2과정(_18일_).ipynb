{
  "nbformat": 4,
  "nbformat_minor": 0,
  "metadata": {
    "colab": {
      "name": "2021_컴퓨터실습2_기말고사_실습2과정( 18일 ).ipynb",
      "provenance": [],
      "collapsed_sections": [
        "7DZqGQXERPMA"
      ]
    },
    "kernelspec": {
      "name": "python3",
      "display_name": "Python 3"
    },
    "language_info": {
      "name": "python"
    }
  },
  "cells": [
    {
      "cell_type": "markdown",
      "metadata": {
        "id": "H4iSXaD3INl3"
      },
      "source": [
        "## 푸시기 전에 .. \n",
        "\n",
        "```\n",
        "#### 기말고사 규칙:\n",
        "- 기말고사는 오픈북 형태로서 수업시간 자료와 외부 자료를 모두 조회, 참고 가능합니다. \n",
        "- 인터넷 검색도 가능하지만 타인과의 정보교환은 엄격히 금합니다. 적발시 바로 부정행위로 조치합니다. \n",
        "- 수험 시간은 시작 이후 1시간 50분까지입니다. \n",
        "- 점수는 작성하신 프로그램중에 가장 난이도가 높은 프로그램으로 반영됩니다. 그러므로 가장 난이도가 높은 프로그램 하나만 정확히 작성하셔도 만점입니다. \n",
        "- 어려운 문제에 매달리다 실패하는 위험을 줄이기 위해 자신있는 문제를 먼저 푸시고 도전할만한 문제를 푸시는걸 추천드립니다. \n",
        "- 수업시간에 알려드린 방식과 다르거나 지나치게 유사한 답안이 존재할 경우  본인이 푸신걸 확인하기 위한 절차를 요청할 수 있습니다. 이때 설명을 못하시면 부정시험으로 간주합니다. \n",
        "```\n",
        "\n",
        "다음은 여러분들의 편의를 위한 시험에 사용되는 라이브러리 import 코드입니다."
      ]
    },
    {
      "cell_type": "code",
      "metadata": {
        "id": "0tumAWenOMnW"
      },
      "source": [
        "import numpy as np \n",
        "import matplotlib.pyplot as plt \n",
        "import math\n",
        "import pandas as pd"
      ],
      "execution_count": null,
      "outputs": []
    },
    {
      "cell_type": "markdown",
      "metadata": {
        "id": "gbs21zbzDXG2"
      },
      "source": [
        "\n",
        "\n",
        "# 2021 학년도 컴퓨터실습2 기말고사 (실습2과정)\n",
        "<br>\n"
      ]
    },
    {
      "cell_type": "markdown",
      "metadata": {
        "id": "MUHuRKXeEF4Q"
      },
      "source": [
        "---\n",
        "<Br><Br><Br>\n",
        "\n",
        "#### 문제 1. 다음 x,y 두개의 값을 갖는 Point 클래스에 x,y 값만큼 이동시키는 move 메소드를 작성하세요 [60점]\n",
        "\n",
        "사용예:\n",
        "```\n",
        "p = Point(3,4)\n",
        "p.move(3,-1)\n",
        "print(p)\n",
        "-> \n",
        "6,3\n",
        "```\n",
        "\n",
        "\n"
      ]
    },
    {
      "cell_type": "code",
      "metadata": {
        "id": "DPPNykWIEFlI",
        "colab": {
          "base_uri": "https://localhost:8080/"
        },
        "outputId": "978de329-2a78-4c8c-d05d-fb973d0e7e0f"
      },
      "source": [
        "# 클래스 Point 정의\n",
        "class Point:\n",
        "  def __init__(self,x,y): #생성자\n",
        "    self.x = x\n",
        "    self.y = y \n",
        "  \n",
        "  def __str__(self): #문자열 변환 메소드\n",
        "    return str(self.x) + \",\" + str(self.y)\n",
        "\n",
        "  # 메소드 move 를 작성하세요\n",
        "\n",
        "\n",
        "\n",
        "\n",
        " \n",
        "\n",
        "\n",
        "# 사용예 \n",
        "p = Point(3,4)\n",
        "p.move(3,-1)\n",
        "print(p)\n"
      ],
      "execution_count": 2,
      "outputs": [
        {
          "output_type": "stream",
          "text": [
            "6,3\n"
          ],
          "name": "stdout"
        }
      ]
    },
    {
      "cell_type": "markdown",
      "metadata": {
        "id": "d7g_EN6H0NQ-"
      },
      "source": [
        "---\n",
        "<br><br><br>\n",
        "\n",
        "#### 문제 2. 다음 ndarray 를 보기와 같이 바꾸세요 [70점]\n",
        "\n",
        "보기:\n",
        "```\n",
        "[[0. 0. 0. 0. 0.]\n",
        " [0. 0. 0. 0. 0.]\n",
        " [0. 0. 0. 0. 0.]\n",
        " [0. 0. 0. 0. 0.]\n",
        " [0. 0. 0. 0. 0.]]\n",
        "\n",
        "->\n",
        "\n",
        "[[0. 0. 0. 0. 0.]\n",
        " [0. 1. 1. 1. 0.]\n",
        " [0. 1. 1. 1. 0.]\n",
        " [0. 1. 1. 1. 0.]\n",
        " [0. 0. 0. 0. 0.]]\n",
        "```"
      ]
    },
    {
      "cell_type": "code",
      "metadata": {
        "id": "hPTeESBhDKi8"
      },
      "source": [
        "# 클래스 정의 코드\n",
        "arr = np.zeros(25).reshape(5,5) % 2\n",
        "\n",
        "#위의 numpy 배열을 보기와 같이 바꿔보세요\n",
        "\n",
        "\n",
        "# 출력\n",
        "print(arr)"
      ],
      "execution_count": null,
      "outputs": []
    },
    {
      "cell_type": "markdown",
      "metadata": {
        "id": "JOs6k1PgEGCl"
      },
      "source": [
        "\n",
        "\n",
        "---\n",
        "\n",
        "\n",
        "<Br><Br><Br>\n",
        "\n",
        "#### 문제 3. 다음 pandas 에서 읽어들인 데이터중에 SP 값이 7 이상인 경우에 대한 Slag 값을 그래프로 표시해보세요 [80점]\n",
        " \n",
        "다음 "
      ]
    },
    {
      "cell_type": "code",
      "metadata": {
        "id": "FISlsBJbEGCm"
      },
      "source": [
        "# data 읽어들이기\n",
        "df = pd.read_csv( 'https://archive.ics.uci.edu/ml/machine-learning-databases/concrete/slump/slump_test.data' ) \n",
        "df\n",
        "\n",
        "# 문제의 코드를 작성하세요\n"
      ],
      "execution_count": null,
      "outputs": []
    },
    {
      "cell_type": "markdown",
      "metadata": {
        "id": "_J7PlCbqx_ZC"
      },
      "source": [
        "---\n",
        "<Br><Br><Br>\n",
        "\n",
        "#### 문제 4. matplotlib 의 막대 차트 bar 를 사용해 다음과 형태를 그려보세요 [90점]\n",
        "( 예시의 bar 의 갯수는 100개입니다. )\n",
        "\n",
        "<img src = 'http://drive.google.com/uc?export=view&id=1v6n8A59-dyutqQoqTTKTLH9QlouqdNJo'>\n",
        "\n",
        "\n"
      ]
    },
    {
      "cell_type": "code",
      "metadata": {
        "id": "T5jDxu0nyNax"
      },
      "source": [
        "# 문제 4번의 형태가 되도록 데이터를 생성하고 막대그래프를 만들어보세요\n"
      ],
      "execution_count": null,
      "outputs": []
    },
    {
      "cell_type": "markdown",
      "metadata": {
        "id": "CBdCBhpfqg-e"
      },
      "source": [
        "---\n",
        "<Br><Br><Br>\n",
        "\n",
        "#### 문제 5. 다음 형태의 딕셔너리에서 특정값의 경로를 찾는 searchPath 함수를 작성하세요  [100점]\n",
        "\n",
        "\n",
        "\n",
        "예: \n",
        "\n",
        "nest \n",
        "```\n",
        " a : 1\n",
        " b : 2\n",
        " c :\n",
        "    c1 : 3\n",
        "    c2 :\n",
        "       c21 : 21\n",
        "       c22 : 27\n",
        " d :\n",
        "    d1 : 4\n",
        "```\n",
        "\n",
        "사용 예:\n",
        "```\n",
        "print( searchPath(nest,21) )\n",
        "->\n",
        "(['c', 'c2', 'c21'])\n",
        "```\n",
        "\n",
        "(단 값이 없을 경우 빈 배열이 리턴되도록 합니다. )"
      ]
    },
    {
      "cell_type": "code",
      "metadata": {
        "id": "OWp6XKL-qg-m"
      },
      "source": [
        "# 데이터 ( 최대값의 위치를 바꿔서 테스트 해보세요 )\n",
        "nest = { \"a\":1, \n",
        "        \"b\":2,\n",
        "        \"c\":{\n",
        "          \"c1\":3,\n",
        "          \"c2\":{\n",
        "            \"c21\":21,\n",
        "            \"c22\":27\n",
        "          }        \n",
        "        },\n",
        "        \"d\":{\n",
        "            \"d1\":4,\n",
        "            \"d2\":5\n",
        "        }\n",
        "\n",
        "      }\n",
        "\n",
        "def searchPath(dic, v) :\n",
        "  path = [] \n",
        "  # 재귀함수 searchPath 의 코드를 여기에 작성하세요\n",
        "  \n",
        "\n",
        "  # 최종적으로 path를 리턴합니다. \n",
        "  return path\n",
        "\n",
        "\n",
        "\n",
        "# 테스트 코드 ( 찾는 값을 바꿔서 테스트해보세요 )\n",
        "print( searchPath(nest, 21) )"
      ],
      "execution_count": null,
      "outputs": []
    },
    {
      "cell_type": "markdown",
      "metadata": {
        "id": "7DZqGQXERPMA"
      },
      "source": [
        "\n",
        "### 제출 시 참고 : \n",
        "- 과제 제출은 작성하신 colab을 [파일 > 다운로드 > ipynb] 메뉴를 통해 파일로 다운 받으신 후에 사이버캠퍼스 [기말고사 제출] 이라는 과제에 업로드하셔야 합니다.\n",
        "- 웹브라우저(크롬, ie, 엣지 파폭)의 메뉴가 아닌 colab 에 있는 다운로드를 사용하셔야 정상적으로 ipynb 로 다운로드 됩니다. \n"
      ]
    }
  ]
}