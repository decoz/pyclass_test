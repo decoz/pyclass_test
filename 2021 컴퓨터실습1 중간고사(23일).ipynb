{
  "nbformat": 4,
  "nbformat_minor": 0,
  "metadata": {
    "colab": {
      "name": "2021  컴퓨터실습1 중간고사(23일).ipynb",
      "provenance": [],
      "collapsed_sections": []
    },
    "kernelspec": {
      "name": "python3",
      "display_name": "Python 3"
    },
    "language_info": {
      "name": "python"
    }
  },
  "cells": [
    {
      "cell_type": "markdown",
      "metadata": {
        "id": "H4iSXaD3INl3"
      },
      "source": [
        "## 푸시기 전에 .. \n",
        "\n",
        "```\n",
        "#### 중간고사 규칙:\n",
        "- 중간고사는 오픈북 형태로서 수업시간 자료와 외부 자료를 모두 조회, 참고 가능합니다. \n",
        "- 인터넷 검색도 가능하지만 타인과의 정보교환은 엄격히 금합니다. 적발시 바로 부정행위로 조치합니다. \n",
        "- 수험 시간은 1시 50분까지입니다. \n",
        "- 점수는 작성하신 프로그램중에 가장 난이도가 높은 프로그램으로 반영됩니다. 그러므로 가장 난이도가 높은 프로그램 하나만 정확히 작성하셔도 만점입니다. \n",
        "- 쉬운 프로그램을 채점 받은 후에 다시 난이도 높은 프로그램을 재 채점 받으셔도 됩니다.\n",
        "```\n"
      ]
    },
    {
      "cell_type": "markdown",
      "metadata": {
        "id": "gbs21zbzDXG2"
      },
      "source": [
        "<hr> \n",
        "\n",
        "# 2021학년도 컴퓨터실습1 중간고사\n",
        "\n",
        "#### 문제 1. a,b,c 3개의 값 중에 가장 큰 값과 가장 작은 값의 차이를 출력하세요 [30점]\n",
        "```\n",
        "예: \n",
        "\n",
        "a,b,c = 2,3,2 \n",
        "출력: 1 \n",
        "\n",
        "a,b,c = 1,4,5\n",
        "출력: 4\n",
        "```"
      ]
    },
    {
      "cell_type": "code",
      "metadata": {
        "id": "hPTeESBhDKi8"
      },
      "source": [
        "a,b,c = 1,4,5\n",
        "# 문제 1 코드를 작성하고 a,b,c 값을 바꿔 테스트해보세요\n",
        "       \n",
        "\n",
        "print(mx - mn)"
      ],
      "execution_count": null,
      "outputs": []
    },
    {
      "cell_type": "markdown",
      "metadata": {
        "id": "JOs6k1PgEGCl"
      },
      "source": [
        "\n",
        "<Br><Br><Br>\n",
        "\n",
        "#### 문제 2. 1부터 50까지 3의 배수의 합산값을 출력하는 코드를 작성하세요 [40점]\n",
        "\n"
      ]
    },
    {
      "cell_type": "code",
      "metadata": {
        "id": "FISlsBJbEGCm"
      },
      "source": [
        "# 문제 2의 코드를 작성하세요\n",
        "\n"
      ],
      "execution_count": null,
      "outputs": []
    },
    {
      "cell_type": "markdown",
      "metadata": {
        "id": "PLyV_aLxEFlH"
      },
      "source": [
        "<Br><Br><Br>\n",
        "\n",
        "#### 문제 3. 반복문이 다음과 같은 출력이 되도록 코드를 작성하세요 [50점]\n",
        "```\n",
        "0 \n",
        "1 0 \n",
        "2 1 0 \n",
        "3 2 1 0 \n",
        "4 3 2 1 0 \n",
        "```"
      ]
    },
    {
      "cell_type": "code",
      "metadata": {
        "id": "owxFHFo5EF4T"
      },
      "source": [
        "# 문제 3의 코드를 작성하세요\n",
        "\n"
      ],
      "execution_count": null,
      "outputs": []
    },
    {
      "cell_type": "markdown",
      "metadata": {
        "id": "MUHuRKXeEF4Q"
      },
      "source": [
        "<Br><Br><Br>\n",
        "\n",
        "#### 문제 4. 반복문이 다음과 같은 출력이 되도록 코드를 작성하세요 [60점]\n",
        "```\n",
        "0               8 \n",
        "0 1           7 8 \n",
        "0 1 2       6 7 8 \n",
        "0 1 2 3   5 6 7 8 \n",
        "0 1 2 3 4 5 6 7 8 \n",
        "```"
      ]
    },
    {
      "cell_type": "code",
      "metadata": {
        "id": "DPPNykWIEFlI"
      },
      "source": [
        "# 문제 4 의 코드를 작성하세요\n",
        "\n",
        "\n"
      ],
      "execution_count": null,
      "outputs": []
    },
    {
      "cell_type": "markdown",
      "metadata": {
        "id": "7DZqGQXERPMA"
      },
      "source": [
        "\n",
        "### 제출 시 참고 : \n",
        "- 과제 제출은 작성하신 colab을 [파일 > 다운로드 > ipynb] 메뉴를 통해 파일로 다운 받으신 후에 사이버캠퍼스 [중간고사 제출] 이라는 과제에 업로드하셔야 합니다.\n",
        "- 웹브라우저(크롬, ie, 엣지 파폭)의 메뉴가 아닌 colab 에 있는 다운로드를 사용하셔야 정상적으로 ipynb 로 다운로드 됩니다. \n"
      ]
    }
  ]
}