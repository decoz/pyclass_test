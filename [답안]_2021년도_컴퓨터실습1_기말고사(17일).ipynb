{
  "nbformat": 4,
  "nbformat_minor": 0,
  "metadata": {
    "colab": {
      "name": "[답안] 2021년도 컴퓨터실습1_기말고사(17일).ipynb",
      "provenance": [],
      "collapsed_sections": []
    },
    "kernelspec": {
      "name": "python3",
      "display_name": "Python 3"
    }
  },
  "cells": [
    {
      "cell_type": "markdown",
      "metadata": {
        "id": "Bkj26YclUuKK"
      },
      "source": [
        "\n",
        "\n",
        "# 2021 학년도 1학기 컴퓨터실습 기말고사\n",
        "\n",
        "```\n",
        "#### 기말고사 규칙:\n",
        "- 라이브러리나 함수의 도움 없이 기본적인 문법으로 문제를 해결하셔야합니다. 타입변환(str, int등), 배열의 카피(arr.copy()) 등 수업시간에 사용된 함수는 가능합니다. \n",
        "- 푸신 문제중에 가장 난이도가 높은 문제를 기준으로 점수 평가가 됩니다. \n",
        "- 소스를 실행했을때 실행이 되어야 합니다. \n",
        "- 제출시에는 ipynb 파일로 다운 받아 과제제출에 4시 반까지 제출하셔야합니다.\n",
        "- 수업시간에 알려드린 방식과 다르거나 지나치게 유사한 답안이 존재할 경우  본인이 푸신걸 확인하기 위한 절차를 요청할 수 있습니다. 이때 설명을 못하시면 부정시험으로 간주합니다. \n",
        "```\n",
        " <hr> \n"
      ]
    },
    {
      "cell_type": "markdown",
      "metadata": {
        "id": "wtNOvbszaTWx"
      },
      "source": [
        "## 배열 관련\n",
        "\n",
        "\n",
        "#### 문제 1 : 임의의 배열에서 짝수번째 값을 꺼꾸로 출력하세요  [60점]\n",
        "(인덱스는 0부터 시작하므로 홀수값이 됩니다. ) \n",
        "\n",
        "예\n",
        "```\n",
        "arr = [1,4,2,5,7,10,8]\n",
        "-> 10 5 4 \n",
        "\n",
        "출력: 3\n",
        "```\n",
        "\n"
      ]
    },
    {
      "cell_type": "code",
      "metadata": {
        "id": "BZgxwxuobc0F",
        "colab": {
          "base_uri": "https://localhost:8080/"
        },
        "outputId": "c39942df-fd86-4d57-fbdb-6dd82cb9b407"
      },
      "source": [
        "# 배열의 크기와 값를 바꾸며 테스트해보세요\n",
        "arr = [1,4,2,5,7,10,8]\n",
        "\n",
        "# 문제 1의 코드를 작성하세요\n",
        "for i in range( len(arr)-1, -1, -1):\n",
        "  if i % 2 == 1:\n",
        "    print(arr[i], end = \" \")\n",
        "\n"
      ],
      "execution_count": 6,
      "outputs": [
        {
          "output_type": "stream",
          "text": [
            "10 5 4 "
          ],
          "name": "stdout"
        }
      ]
    },
    {
      "cell_type": "markdown",
      "metadata": {
        "id": "RkAZyz1itxV3"
      },
      "source": [
        "\n",
        "<Br><Br><Br>\n",
        "#### 문제 2 : 3 x 3 인  임의의 2차원 배열에서 각 열별로 최대값을 구하는 코드를 작성하세요 [70점]\n",
        "\n",
        "출력:\n",
        "```\n",
        "[ [0,4,1],\n",
        "  [1,2,5],\n",
        "  [2,3,2]\n",
        "]\n",
        "-> \n",
        " \n",
        "출력 :\n",
        "[2,4,5]\n",
        "```\n",
        "\n"
      ]
    },
    {
      "cell_type": "code",
      "metadata": {
        "id": "hueXFbeKtxV5"
      },
      "source": [
        "# 배열의 값를 바꾸며 테스트해보세요\n",
        "arr = [ [0,4,1],\n",
        "        [1,2,5],\n",
        "        [2,3,2]\n",
        "      ]\n",
        "\n",
        "# 문제2의 코드를 작성하세요\n",
        "max = arr[0]\n",
        "for c in range(1,3):  \n",
        "  for r in range(3):\n",
        "    if  arr[c][r] > max[r]:\n",
        "      max[r] = arr[c][r]\n",
        "\n",
        "print(max)\n"
      ],
      "execution_count": null,
      "outputs": []
    },
    {
      "cell_type": "markdown",
      "metadata": {
        "id": "D9wUo4xIb_mO"
      },
      "source": [
        "\n",
        "<Br><Br><Br>\n",
        "#### 문제 2 : 다음과 같은 배열의 생성하세요 [80점]\n",
        "\n",
        "예\n",
        "```\n",
        "[0, 1, 0, 1, 0, 1, 0, 1, 0, 1]\n",
        "[1, 2, 1, 2, 1, 2, 1, 2, 1, 2]\n",
        "[2, 3, 2, 3, 2, 3, 2, 3, 2, 3]\n",
        "[3, 4, 3, 4, 3, 4, 3, 4, 3, 4]\n",
        "[4, 5, 4, 5, 4, 5, 4, 5, 4, 5]\n",
        "[5, 6, 5, 6, 5, 6, 5, 6, 5, 6]\n",
        "[6, 7, 6, 7, 6, 7, 6, 7, 6, 7]\n",
        "[7, 8, 7, 8, 7, 8, 7, 8, 7, 8]\n",
        "[8, 9, 8, 9, 8, 9, 8, 9, 8, 9]\n",
        "```\n",
        "\n"
      ]
    },
    {
      "cell_type": "code",
      "metadata": {
        "id": "l4Ztc5zFtwbr",
        "colab": {
          "base_uri": "https://localhost:8080/"
        },
        "outputId": "4a514ec0-e890-44ad-9d49-17ab6b7ef617"
      },
      "source": [
        "# 문제 2의 코드를 여기에 작성하세요\n",
        "arr = []\n",
        "for i in range(9):\n",
        "  tarr = [] \n",
        "  for j in range(10):\n",
        "    tarr += [i + j%2]\n",
        "  arr += [tarr]  \n",
        "\n",
        "# 출력\n",
        "for v in arr:\n",
        "  print(v)"
      ],
      "execution_count": 26,
      "outputs": [
        {
          "output_type": "stream",
          "text": [
            "[0, 1, 0, 1, 0, 1, 0, 1, 0, 1]\n",
            "[1, 2, 1, 2, 1, 2, 1, 2, 1, 2]\n",
            "[2, 3, 2, 3, 2, 3, 2, 3, 2, 3]\n",
            "[3, 4, 3, 4, 3, 4, 3, 4, 3, 4]\n",
            "[4, 5, 4, 5, 4, 5, 4, 5, 4, 5]\n",
            "[5, 6, 5, 6, 5, 6, 5, 6, 5, 6]\n",
            "[6, 7, 6, 7, 6, 7, 6, 7, 6, 7]\n",
            "[7, 8, 7, 8, 7, 8, 7, 8, 7, 8]\n",
            "[8, 9, 8, 9, 8, 9, 8, 9, 8, 9]\n"
          ],
          "name": "stdout"
        }
      ]
    },
    {
      "cell_type": "markdown",
      "metadata": {
        "id": "DfNOJTqGFKD9"
      },
      "source": [
        "<Br><Br><Br>\n",
        "<hr>\n",
        "\n",
        "##  이미지 관련 \n",
        "\n",
        "아래는 크기가 100x100 인 0으로 가득찬 2차원 배열을 생성해 이미지로 표현하는 코드입니다. 먼저 이를 실행한 후에 아래의 문제를 풀어보세요. \n",
        "\n",
        "\n",
        "\n"
      ]
    },
    {
      "cell_type": "code",
      "metadata": {
        "id": "l8Od24d-FKD_",
        "colab": {
          "base_uri": "https://localhost:8080/",
          "height": 117
        },
        "outputId": "7d51640a-817a-4f03-9b8e-a1ebdfe3f122"
      },
      "source": [
        "from PIL import Image\n",
        "from IPython.display import display\n",
        "import numpy as np\n",
        "\n",
        "arr = [] \n",
        "for i in range(100):\n",
        "  tarr = []\n",
        "  for j in range(100):\n",
        "    tarr = tarr + [0] \n",
        "  arr = arr + [tarr]\n",
        "\n",
        "display( Image.fromarray( np.array(arr).astype('uint8').reshape(100,100) , 'L' ) )"
      ],
      "execution_count": 32,
      "outputs": [
        {
          "output_type": "display_data",
          "data": {
            "image/png": "[encoded data removed]",
            "text/plain": [
              "<PIL.Image.Image image mode=L size=100x100 at 0x7F8D97E22FD0>"
            ]
          },
          "metadata": {
            "tags": []
          }
        }
      ]
    },
    {
      "cell_type": "markdown",
      "metadata": {
        "id": "sRj-aQe_J_nc"
      },
      "source": [
        "<Br>\n",
        "\n",
        "#### 문제 4 : 아래와 같은 이미지가 출력되도록 반복문을 사용하여 배열값을 바꾸세요 [90점]\n",
        "\n",
        "<img src = 'http://drive.google.com/uc?export=view&id=1c_Yxr7tc5Vlhe2ls75QPMo8-AQnkjvPd'>"
      ]
    },
    {
      "cell_type": "code",
      "metadata": {
        "id": "TKn-oVvRvNCN"
      },
      "source": [
        "# 배열 값 초기화\n",
        "for x in range(100):\n",
        "  for y in range(100):\n",
        "    arr[y][x] = 0 \n",
        "\n",
        "# 문제 4의 코드를 작성하세요\n",
        "for x in range(100):\n",
        "  for y in range(100):\n",
        "    if (x + y ) % 10 == 0 or (x - y ) % 10 == 0:\n",
        "      arr[y][x] = 255\n",
        "\n",
        "# 출력\n",
        "display( Image.fromarray( np.array(arr).astype('uint8').reshape(100,100) , 'L' ) )      "
      ],
      "execution_count": null,
      "outputs": []
    },
    {
      "cell_type": "markdown",
      "metadata": {
        "id": "C1eBDFKFUKBf"
      },
      "source": [
        "<Br><Br><Br>\n",
        "\n",
        "#### 문제 5 : 아래와 같은 이미지가 출력되도록 반복문을 사용해서 배열값을 바꾸세요 [100점]\n",
        "\n",
        "<img src='http://drive.google.com/uc?export=view&id=1X08BVhpLcA1RUscHHGiNqrqaG-Y6nK8P' /><br>"
      ]
    },
    {
      "cell_type": "code",
      "metadata": {
        "id": "YwNKeFzqP5qj"
      },
      "source": [
        "# 배열 값 초기화\n",
        "for x in range(100):\n",
        "  for y in range(100):\n",
        "    arr[y][x] = 0 \n",
        "\n",
        "# 문제 5의 코드를 작성하세요\n",
        "for x in range(100):\n",
        "  for y in range(100):    \n",
        "    arr[y][x] = 255 - ( abs(y - x) + abs( x - ( 100 - y) ) ) * 1.5\n",
        "    \n",
        "    \n",
        "# 출력    \n",
        "display( Image.fromarray( np.array(arr).astype('uint8').reshape(100,100) , 'L' ) )    "
      ],
      "execution_count": null,
      "outputs": []
    },
    {
      "cell_type": "code",
      "metadata": {
        "id": "8yHSJckdaxxB"
      },
      "source": [
        ""
      ],
      "execution_count": null,
      "outputs": []
    }
  ]
}