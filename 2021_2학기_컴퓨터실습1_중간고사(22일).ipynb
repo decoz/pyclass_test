{
  "nbformat": 4,
  "nbformat_minor": 0,
  "metadata": {
    "colab": {
      "name": "2021 2학기_컴퓨터실습1_중간고사(22일).ipynb",
      "provenance": [],
      "collapsed_sections": []
    },
    "kernelspec": {
      "name": "python3",
      "display_name": "Python 3"
    },
    "language_info": {
      "name": "python"
    }
  },
  "cells": [
    {
      "cell_type": "markdown",
      "metadata": {
        "id": "H4iSXaD3INl3"
      },
      "source": [
        "## 푸시기 전에 .. \n",
        "\n",
        "```\n",
        "#### 중간고사 규칙:\n",
        "- 기말고사는 오픈북 형태로서 수업시간 자료와 외부 자료를 모두 조회, 참고 가능합니다. \n",
        "- 인터넷 검색도 가능하지만 타인과의 정보교환은 엄격히 금합니다. 적발시 바로 부정행위로 조치합니다. \n",
        "- 수험 시간은 시작 이후 1시간 30분까지입니다. \n",
        "- 점수는 작성하신 프로그램중에 가장 난이도가 높은 프로그램으로 반영됩니다. 그러므로 가장 난이도가 높은 프로그램 하나만 정확히 작성하셔도 만점입니다. \n",
        "- 어려운 문제에 매달리다 실패하는 위험을 줄이기 위해 자신있는 문제를 먼저 푸시고 도전할만한 문제를 푸시는걸 추천드립니다. \n",
        "- 수업시간에 알려드린 방식과 다르거나 지나치게 유사한 답안이 존재할 경우  본인이 푸신걸 확인하기 위한 절차를 요청할 수 있습니다. 이때 설명을 못하시면 부정시험으로 간주합니다. \n"
      ]
    },
    {
      "cell_type": "markdown",
      "metadata": {
        "id": "gbs21zbzDXG2"
      },
      "source": [
        "<hr> \n",
        "\n",
        "# 2021학년도 2학기 컴퓨터실습1 중간고사\n",
        "\n",
        "#### 문제 1. a,b,c 임의의 3개의 값과 3값 중 가장 큰 값과의 각각 차이 값을 출력하는 프로그램을 작성하세요 [30점]\n",
        "```\n",
        "예: \n",
        "\n",
        "a,b,c = 1,3,2 \n",
        "( 3-1, 3-3, 3-2 ) \n",
        "\n",
        "출력: 2,0,1 \n",
        "\n",
        "a,b,c = 1,4,5\n",
        "( 5-1, 5-4, 5-5 )\n",
        "\n",
        "출력: 3,1,0\n",
        "```"
      ]
    },
    {
      "cell_type": "code",
      "metadata": {
        "id": "hPTeESBhDKi8"
      },
      "source": [
        "a,b,c = 2,1,7\n",
        "# 문제 1 코드를 작성하고 a,b,c 값을 바꿔 테스트해보세요\n"
      ],
      "execution_count": null,
      "outputs": []
    },
    {
      "cell_type": "markdown",
      "metadata": {
        "id": "JOs6k1PgEGCl"
      },
      "source": [
        "\n",
        "<Br><Br><Br>\n",
        "\n",
        "#### 문제 2. 1부터 50까지 2의 배수이거나 3의 배수인 값의 합산값을 계산하는 프로그램을 작성하세요 [40점]\n",
        "\n"
      ]
    },
    {
      "cell_type": "code",
      "metadata": {
        "id": "FISlsBJbEGCm"
      },
      "source": [
        "# 문제 2의 코드를 작성하세요\n",
        "\n",
        "\n",
        "  "
      ],
      "execution_count": null,
      "outputs": []
    },
    {
      "cell_type": "markdown",
      "metadata": {
        "id": "PLyV_aLxEFlH"
      },
      "source": [
        "<Br><Br><Br>\n",
        "\n",
        "#### 문제 3. 반복문이 다음과 같은 출력이 되도록 코드를 작성하세요 [50점]\n",
        "```\n",
        "1 \n",
        "1 3 \n",
        "1 3 5 \n",
        "1 3 5 7 \n",
        "1 3 5 7 9 \n",
        "```"
      ]
    },
    {
      "cell_type": "code",
      "metadata": {
        "id": "owxFHFo5EF4T"
      },
      "source": [
        "# 문제 3의 코드를 작성하세요\n",
        "    \n",
        "\n",
        "\n",
        "\n"
      ],
      "execution_count": null,
      "outputs": []
    },
    {
      "cell_type": "markdown",
      "metadata": {
        "id": "MUHuRKXeEF4Q"
      },
      "source": [
        "<Br><Br><Br>\n",
        "\n",
        "#### 문제 4. 반복문을 다음과 같은 형태를 그리되 n 값에 의해 크기가 변하도록 하는 프로그램을 작성하세요 [60점]\n",
        "```\n",
        "예: \n",
        "\n",
        "n = 5\n",
        "\n",
        "00        0\n",
        "1  1      1\n",
        "2    2    2\n",
        "3      3  3\n",
        "4        44\n",
        "\n",
        "\n",
        "n = 10\n",
        "\n",
        "00                  0\n",
        "1  1                1\n",
        "2    2              2\n",
        "3      3            3\n",
        "4        4          4\n",
        "5          5        5\n",
        "6            6      6\n",
        "7              7    7\n",
        "8                8  8\n",
        "9                  99\n",
        "\n",
        "```"
      ]
    },
    {
      "cell_type": "code",
      "metadata": {
        "id": "DPPNykWIEFlI"
      },
      "source": [
        "n = 5\n",
        "# 문제 4 의 코드를 작성하고 n 값을 5~10 사이로 변화시키며 테스트해보세요\n",
        "\n",
        "\n",
        "\n"
      ],
      "execution_count": null,
      "outputs": []
    },
    {
      "cell_type": "markdown",
      "metadata": {
        "id": "7DZqGQXERPMA"
      },
      "source": [
        "\n",
        "### 제출 시 참고 : \n",
        "- 과제 제출은 작성하신 colab을 [파일 > 다운로드 > ipynb] 메뉴를 통해 파일로 다운 받으신 후에 사이버캠퍼스 [중간고사 제출] 이라는 과제에 업로드하셔야 합니다.\n",
        "- 웹브라우저(크롬, ie, 엣지 파폭)의 메뉴가 아닌 colab 에 있는 다운로드를 사용하셔야 정상적으로 ipynb 로 다운로드 됩니다. \n"
      ]
    }
  ]
}