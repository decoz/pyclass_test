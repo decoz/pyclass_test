{
  "nbformat": 4,
  "nbformat_minor": 0,
  "metadata": {
    "colab": {
      "provenance": []
    },
    "kernelspec": {
      "name": "python3",
      "display_name": "Python 3"
    }
  },
  "cells": [
    {
      "cell_type": "markdown",
      "metadata": {
        "id": "Bkj26YclUuKK"
      },
      "source": [
        "\n",
        "\n",
        "# 2022 학년도 2학기 컴퓨터실습 기말고사\n",
        "\n",
        "\n",
        "#### 기말고사 규칙:\n",
        "```\n",
        "- 기말고사는 오픈북 형태로서 수업시간 자료와 외부 자료를 모두 조회, 참고 가능합니다. \n",
        "- 인터넷 검색도 가능하지만 타인과의 정보교환은 엄격히 금합니다. 적발시 바로 부정행위로 조치합니다. \n",
        "- 수험 시간은 시작 이후 1시간 30분까지입니다. \n",
        "- 점수는 작성하신 프로그램중에 가장 난이도가 높은 프로그램으로 반영됩니다. 그러므로 가장 난이도가 높은 프로그램 하나만 정확히 작성하셔도 만점입니다. \n",
        "- 어려운 문제에 매달리다 실패하는 위험을 줄이기 위해 자신있는 문제를 먼저 푸시고 도전할만한 문제를 푸시는걸 추천드립니다. \n",
        "- 문제를 푸신 후에 체크를 요청하시면 바로 해당 문제에 대한 점수를 기록해 드리며 그 후에 다른 문제를 푸셔도 됩니다. \n",
        "```\n"
      ]
    },
    {
      "cell_type": "markdown",
      "metadata": {
        "id": "wtNOvbszaTWx"
      },
      "source": [
        "#### 문제 1 : 임의의 배열의 인접한 두 숫자의 차이를 출력하세요 [60점]\n",
        "\n",
        "예\n",
        "```\n",
        "arr = [1,4,2,5,7]\n",
        "1~4 => 3 \n",
        "4~2 => 2\n",
        "2~5 => 3\n",
        "5~7 => 2\n",
        "\n",
        "-> 3 2 3 2\n",
        "```\n",
        "\n"
      ]
    },
    {
      "cell_type": "code",
      "metadata": {
        "id": "BZgxwxuobc0F"
      },
      "source": [
        "# 배열의 크기와 값를 바꾸며 테스트해보세요\n",
        "arr = [1,4,2,5,7]\n",
        "\n",
        "# 문제 1의 코드를 작성하세요\n",
        "for i in range(len(arr)-1):\n",
        "  diff = arr[i]-arr[i+1]\n",
        "  if diff < 0 : \n",
        "    diff = diff * -1 \n",
        "  print(diff, end = ' ')\n",
        "\n",
        "\n"
      ],
      "execution_count": null,
      "outputs": []
    },
    {
      "cell_type": "markdown",
      "source": [
        "<br><br><br>\n",
        "\n",
        "---\n",
        "\n",
        "<br>\n",
        "\n",
        "## 10x10배열 문제(2-3번)\n",
        "먼저 다음 배열의 생성코드를 실행하신 후에 배열문제(2~3번)를 풀어보세요\n"
      ],
      "metadata": {
        "id": "ULlgFew5Z0Go"
      }
    },
    {
      "cell_type": "code",
      "source": [
        "# 10x10 의 2차원배열 생성\n",
        "arr = []\n",
        "for i in range(10):\n",
        "  tarr = [] \n",
        "  for j in range(10):\n",
        "    tarr += [0]\n",
        "  arr += [tarr]"
      ],
      "metadata": {
        "id": "LYgJS7TVadIT"
      },
      "execution_count": null,
      "outputs": []
    },
    {
      "cell_type": "markdown",
      "metadata": {
        "id": "RkAZyz1itxV3"
      },
      "source": [
        "<Br>\n",
        "\n",
        "#### 문제 2 : 반복문을 사용해 arr을 다음과 같이 변경하세요 [70점]\n",
        "\n",
        "```\n",
        "[0, 0, 0, 0, 0, 0, 0, 0, 0, 0]\n",
        "[1, 0, 0, 1, 0, 0, 1, 0, 0, 1]\n",
        "[2, 0, 0, 2, 0, 0, 2, 0, 0, 2]\n",
        "[3, 0, 0, 3, 0, 0, 3, 0, 0, 3]\n",
        "[4, 0, 0, 4, 0, 0, 4, 0, 0, 4]\n",
        "[5, 0, 0, 5, 0, 0, 5, 0, 0, 5]\n",
        "[6, 0, 0, 6, 0, 0, 6, 0, 0, 6]\n",
        "[7, 0, 0, 7, 0, 0, 7, 0, 0, 7]\n",
        "[8, 0, 0, 8, 0, 0, 8, 0, 0, 8]\n",
        "[9, 0, 0, 9, 0, 0, 9, 0, 0, 9]\n",
        "```\n",
        "\n"
      ]
    },
    {
      "cell_type": "code",
      "metadata": {
        "id": "hueXFbeKtxV5"
      },
      "source": [
        "# 문제2의 코드를 작성하세요\n",
        "for y in range(10):\n",
        "  for x in range(10):\n",
        "    if x % 3 == 0 :\n",
        "      arr[y][x] = y\n",
        "\n",
        "# 배열 출력\n",
        "for v in arr:\n",
        "  print(v)\n",
        "\n"
      ],
      "execution_count": null,
      "outputs": []
    },
    {
      "cell_type": "markdown",
      "metadata": {
        "id": "D9wUo4xIb_mO"
      },
      "source": [
        "\n",
        "<Br><Br><Br>\n",
        "#### 문제 3 : 10x10 크기의 이중 배열을  반복문을 사용하여 다음과 같이 변경하세요 [80점]\n",
        "\n",
        "```\n",
        "[0, 0, 0, 0, 0, 0, 0, 0, 0, 0]\n",
        "[0, 1, 1, 1, 1, 1, 1, 1, 1, 1]\n",
        "[0, 1, 2, 2, 2, 2, 2, 2, 2, 2]\n",
        "[0, 1, 2, 3, 3, 3, 3, 3, 3, 3]\n",
        "[0, 1, 2, 3, 4, 4, 4, 4, 4, 4]\n",
        "[0, 1, 2, 3, 4, 5, 5, 5, 5, 5]\n",
        "[0, 1, 2, 3, 4, 5, 6, 6, 6, 6]\n",
        "[0, 1, 2, 3, 4, 5, 6, 7, 7, 7]\n",
        "[0, 1, 2, 3, 4, 5, 6, 7, 8, 8]\n",
        "[0, 1, 2, 3, 4, 5, 6, 7, 8, 9]\n",
        "```\n",
        "\n"
      ]
    },
    {
      "cell_type": "code",
      "metadata": {
        "id": "l4Ztc5zFtwbr"
      },
      "source": [
        "# 문제 3의 코드를 여기에 작성하세요\n",
        "for y in range(10):\n",
        "  for x in range(10):\n",
        "    if x > y : \n",
        "      arr[y][x] = y\n",
        "    else : \n",
        "      arr[y][x] = x\n",
        "\n",
        "# 출력\n",
        "for v in arr:\n",
        "  print(v)"
      ],
      "execution_count": null,
      "outputs": []
    },
    {
      "cell_type": "markdown",
      "metadata": {
        "id": "DfNOJTqGFKD9"
      },
      "source": [
        "<Br><Br><Br>\n",
        "<hr>\n",
        "\n",
        "##  이미지 관련 (4~5번)\n",
        "\n",
        "아래는 크기가 100x100 인 0으로 가득찬 2차원 배열을 생성해 이미지로 표현하는 코드입니다. 먼저 이를 실행한 후에 아래의 문제를 풀어보세요. \n",
        "\n",
        "\n",
        "\n"
      ]
    },
    {
      "cell_type": "code",
      "metadata": {
        "id": "l8Od24d-FKD_",
        "colab": {
          "base_uri": "https://localhost:8080/",
          "height": 117
        },
        "outputId": "dfa2b0c3-590a-4457-e33d-a894641adb69"
      },
      "source": [
        "from PIL import Image\n",
        "from IPython.display import display\n",
        "import numpy as np\n",
        "\n",
        "arr = [] \n",
        "for i in range(100):\n",
        "  tarr = [] \n",
        "  for j in range(100):\n",
        "    tarr += [0]\n",
        "  arr += [tarr]\n",
        "  \n",
        "display( Image.fromarray( np.array(arr).astype('uint8') , 'L' ) )"
      ],
      "execution_count": 3,
      "outputs": [
        {
          "output_type": "display_data",
          "data": {
            "text/plain": [
              "<PIL.Image.Image image mode=L size=100x100 at 0x7F0ACACA7220>"
            ],
            "image/png": "[encoded data removed]"
          },
          "metadata": {}
        }
      ]
    },
    {
      "cell_type": "markdown",
      "metadata": {
        "id": "sRj-aQe_J_nc"
      },
      "source": [
        "<Br>\n",
        "\n",
        "#### 문제 4 : 아래와 같은 이미지가 출력되도록 반복문을 사용하여 배열값을 바꾸세요 [90점]\n",
        "![image.png](data:image/png;base64,iVBORw0KGgoAAAANSUhEUgAAAGQAAABkCAIAAAD/gAIDAAAA70lEQVR4nO3QMQqAMAAEQQ3+/8nB3iJosYgy14VkCcy22e3tl/MYY/F6zrm4/X17vPXxF9tnWOv9voUFq2lhwWpaWLCaFhaspoUFq2lhwWpaWLCaFhaspoUFq2lhwWpaWLCaFhaspoUFq2lhwWpaWLCaFhaspoUFq2lhwWpaWLCaFhaspoUFq2lhwWpaWLCaFhaspoUFq2lhwWpaWLCaFhaspoUFq2lhwWpaWLCaFhaspoUFq2lhwWpaWLCaFhaspoUFq2lhwWpaWLCaFhaspoUFq2lhwWpaWLCaFhaspoUFq2lhwWpaWLCaFhaspj0Bs/Uq6LHDNcYAAAAASUVORK5CYII=)"
      ]
    },
    {
      "cell_type": "code",
      "metadata": {
        "id": "TKn-oVvRvNCN"
      },
      "source": [
        "# 배열 값 초기화\n",
        "for y in range(100):\n",
        "  for x in range(100):\n",
        "    arr[y][x] = 0 \n",
        "\n",
        "# 문제 4의 코드를 작성하세요\n",
        "for y in range(100):\n",
        "  for x in range(100):    \n",
        "    if (x + 5) % 20 >= 10 :\n",
        "      arr[y][x] = y * 2\n",
        "\n",
        "# 출력\n",
        "display( Image.fromarray( np.array(arr).astype('uint8').reshape(100,100) , 'L' ) )      "
      ],
      "execution_count": null,
      "outputs": []
    },
    {
      "cell_type": "markdown",
      "source": [
        "#### 문제 5 : 아래와 같은 이미지가 출력되도록 반복문을 사용하여 배열값을 바꾸세요 [90점]\n",
        "\n",
        "![image.png](data:image/png;base64,iVBORw0KGgoAAAANSUhEUgAAAGQAAABkCAIAAAD/gAIDAAABLklEQVR4nO3YsW3DMABFwSRwpXE0gmfRWCo4kWqNkyqAHSMCXsHGuSsFksWDqv/58WKMsfy43+/Lg/M8X8//n7tf1w/xSKxArECsQKzgtm3b8uzi9Lquy6X3vuvPCsQKxArECsQKxArECsQKbvu+//o0xvjr9HEc18+9911/ViBWIFYgViBWIFYgViBWIFYgVmCDt8HPIVYgViBWIFYgViBWIFZgg7fBzyFWIFYgViBWIFYgViBWIFYgVmCDt8HPIVYgViBWIFYgViBWIFZgg7fBzyFWIFYgViBWIFYgViBWIFYgVmCDt8HPIVYgViBWIFYgViBWIFZgg7fBzyFWIFYgViBWIFYgViBWIFYgVmCDt8HPIVYgViBWIFYgViBWIFZgg7fBzyFWIFYgVvANg8nEcsA1J+oAAAAASUVORK5CYII=)"
      ],
      "metadata": {
        "id": "p6QA2XqAe-pM"
      }
    },
    {
      "cell_type": "code",
      "source": [
        "\n",
        "for y in range(100):\n",
        "  for x in range(100):        \n",
        "    if  ( x + 5 ) % 20 > 10  or ( y + 5 ) % 20 > 10 :\n",
        "      arr[y][x] = ( x + 10  ) % 20 * 10 \n",
        "  \n",
        "display( Image.fromarray( np.array(arr).astype('uint8'), 'L' ) )"
      ],
      "metadata": {
        "id": "OdS58iNxfFYP",
        "colab": {
          "base_uri": "https://localhost:8080/",
          "height": 117
        },
        "outputId": "69ac39cf-399a-4355-dd3f-864ba7f7940c"
      },
      "execution_count": 6,
      "outputs": [
        {
          "output_type": "display_data",
          "data": {
            "text/plain": [
              "<PIL.Image.Image image mode=L size=100x100 at 0x7F0AC9C576D0>"
            ],
            "image/png": "[encoded data removed]"
          },
          "metadata": {}
        }
      ]
    },
    {
      "cell_type": "code",
      "source": [],
      "metadata": {
        "id": "iXQF4vUu3thO"
      },
      "execution_count": null,
      "outputs": []
    }
  ]
}