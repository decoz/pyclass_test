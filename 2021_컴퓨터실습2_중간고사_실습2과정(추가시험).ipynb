{
  "nbformat": 4,
  "nbformat_minor": 0,
  "metadata": {
    "colab": {
      "name": "2021_컴퓨터실습2_중간고사_실습2과정(추가시험).ipynb",
      "provenance": [],
      "collapsed_sections": []
    },
    "kernelspec": {
      "name": "python3",
      "display_name": "Python 3"
    },
    "language_info": {
      "name": "python"
    }
  },
  "cells": [
    {
      "cell_type": "markdown",
      "metadata": {
        "id": "H4iSXaD3INl3"
      },
      "source": [
        "## 푸시기 전에 .. \n",
        "\n",
        "```\n",
        "#### 중간고사 규칙:\n",
        "- 중간고사는 오픈북 형태로서 수업시간 자료와 외부 자료를 모두 조회, 참고 가능합니다. \n",
        "- 인터넷 검색도 가능하지만 타인과의 정보교환은 엄격히 금합니다. 적발시 바로 부정행위로 조치합니다. \n",
        "- 수험 시간은 시작 이후 1시간 20분까지입니다. \n",
        "- 점수는 작성하신 프로그램중에 가장 난이도가 높은 프로그램으로 반영됩니다. 그러므로 가장 난이도가 높은 프로그램 하나만 정확히 작성하셔도 만점입니다. \n",
        "- 쉬운 프로그램을 채점 받은 후에 다시 난이도 높은 프로그램을 재 채점 받으셔도 됩니다.\n",
        "```\n"
      ]
    },
    {
      "cell_type": "markdown",
      "metadata": {
        "id": "gbs21zbzDXG2"
      },
      "source": [
        "<hr> \n",
        "\n",
        "# 2021 학년도 컴퓨터실습2 중간고사 (실습2과정)\n",
        "<br>\n",
        "\n",
        "#### 문제 1. 배열의 값중 짝수의 갯수를 리턴하는 함수 even(arr) 을 만드세요 [30점]\n",
        "```\n",
        "예: \n",
        "\n",
        "print( even( [1,4,2,3] ) ) \n",
        "->\n",
        "2\n",
        "```"
      ]
    },
    {
      "cell_type": "code",
      "metadata": {
        "id": "hPTeESBhDKi8"
      },
      "source": [
        "\n",
        "def even(arr):\n",
        "  _\n",
        "  # 문제 1 함수 코드를 작성하세요\n",
        "\n",
        "# 출력 (숫자를 바꾸며 테스트해보세요)\n",
        "print( even( [1,4,2,3] ) ) "
      ],
      "execution_count": null,
      "outputs": []
    },
    {
      "cell_type": "markdown",
      "metadata": {
        "id": "JOs6k1PgEGCl"
      },
      "source": [
        "\n",
        "\n",
        "---\n",
        "\n",
        "\n",
        "<Br><Br><Br>\n",
        "\n",
        "#### 문제 2. 문자열중에 숫자와 빈칸를 제외한 글자수를 출력하세요 [40점]\n",
        "```\n",
        "예 : \n",
        "\"ab23 cd4\"\n",
        "->\n",
        "4\n",
        "```"
      ]
    },
    {
      "cell_type": "code",
      "metadata": {
        "id": "FISlsBJbEGCm"
      },
      "source": [
        "s = \"ab23 cd4\"\n",
        "# 문제 2의 코드를 작성하세요\n",
        "\n",
        "print(len(s) - cnt)\n",
        "    \n"
      ],
      "execution_count": null,
      "outputs": []
    },
    {
      "cell_type": "markdown",
      "metadata": {
        "id": "HsUzyANBbUpc"
      },
      "source": [
        "\n",
        "##<font color = 'red'> <문제 3-4번용 이미지 로딩 >\n",
        "\n",
        "아래에는 이미지문제를 위해 시험용 샘플이미지 로딩 코드입니다.  아래 문제를 풀기전에 반드시 실행하고 시작해주세요\n",
        "</font>\n"
      ]
    },
    {
      "cell_type": "code",
      "metadata": {
        "id": "Zl7Qk2afbudB"
      },
      "source": [
        "from PIL import Image\n",
        "from IPython.display import display\n",
        "import numpy as np \n",
        "from urllib import request\n",
        "\n",
        "# 이미지 열고 출력\n",
        "img = Image.open(request.urlopen(\"https://github.com/decoz/pyclass_test/blob/main/images/cat.jpg?raw=true\") )\n",
        "display(img)\n",
        "print(\"size:\",img.size)\n"
      ],
      "execution_count": null,
      "outputs": []
    },
    {
      "cell_type": "markdown",
      "metadata": {
        "id": "MUHuRKXeEF4Q"
      },
      "source": [
        "<Br><Br><Br>\n",
        "\n",
        "#### 문제 3. 이미지를 대각선을 중심으로 반전되도록 아래와 같이 변형하세요 [50점]\n",
        "\n",
        "<img src = \"https://github.com/decoz/pyclass_test/blob/main/images/cat_mirror.png?raw=true\">\n",
        "\n"
      ]
    },
    {
      "cell_type": "code",
      "metadata": {
        "id": "DPPNykWIEFlI"
      },
      "source": [
        "# 이미지를 배열 arr 로 변환\n",
        "w, h = img.size\n",
        "arr = np.array(img).reshape(h, w, 3)\n",
        "\n",
        "# 문제 3의 코드를 작성하세요\n",
        "\n",
        "\n",
        "\n",
        "# 이미지 출력\n",
        "display(Image.fromarray(arr))\n",
        "\n"
      ],
      "execution_count": null,
      "outputs": []
    },
    {
      "cell_type": "markdown",
      "metadata": {
        "id": "9ibiE676bDLq"
      },
      "source": [
        "<Br><Br><Br>\n",
        "\n",
        "#### 문제 4. 이미지와 이미지의 가로 세로 갯수를 입력받아 이미지를 타일형태로 반복확장해서 출력하는 함수를 만드세요 [60점]\n",
        "\n",
        "```\n",
        "예: \n",
        "tile(img, 2, 2) \n",
        "```\n",
        "<img src = \"https://github.com/decoz/pyclass_test/blob/main/images/cat_tile.png?raw=true\">\n",
        "\n",
        "\n",
        "```\n",
        "> 참고 : 크기가 w, h  인 새로운 빈 이미지 배열을 손쉽게 만드는 방법 \n",
        "narr = np.zeros((h,w,3)).astype('uint8')\n",
        "```\n",
        "\n"
      ]
    },
    {
      "cell_type": "code",
      "metadata": {
        "id": "GO3EptKmbDMB"
      },
      "source": [
        "def tile(img, nx, ny):\n",
        "  _\n",
        "  # 문제 4의 함수 코드를 작성하세요\n",
        "\n",
        "\n",
        "\n",
        "# 호출 ( 크기를 바꾸면서 시험해보세요 단 크기가 256,256을 넘지 안도록 조심하세요)\n",
        "tile(img, 2, 2)\n"
      ],
      "execution_count": null,
      "outputs": []
    },
    {
      "cell_type": "markdown",
      "metadata": {
        "id": "7DZqGQXERPMA"
      },
      "source": [
        "\n",
        "### 제출 시 참고 : \n",
        "- 과제 제출은 작성하신 colab을 [파일 > 다운로드 > ipynb] 메뉴를 통해 파일로 다운 받으신 후에 사이버캠퍼스 [중간고사 제출] 이라는 과제에 업로드하셔야 합니다.\n",
        "- 웹브라우저(크롬, ie, 엣지 파폭)의 메뉴가 아닌 colab 에 있는 다운로드를 사용하셔야 정상적으로 ipynb 로 다운로드 됩니다. \n"
      ]
    }
  ]
}