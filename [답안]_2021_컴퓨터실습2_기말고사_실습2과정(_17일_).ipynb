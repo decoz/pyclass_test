{
  "nbformat": 4,
  "nbformat_minor": 0,
  "metadata": {
    "colab": {
      "name": "[답안] 2021_컴퓨터실습2_기말고사_실습2과정( 17일 ).ipynb",
      "provenance": [],
      "collapsed_sections": [
        "7DZqGQXERPMA"
      ]
    },
    "kernelspec": {
      "name": "python3",
      "display_name": "Python 3"
    },
    "language_info": {
      "name": "python"
    }
  },
  "cells": [
    {
      "cell_type": "markdown",
      "metadata": {
        "id": "H4iSXaD3INl3"
      },
      "source": [
        "## 푸시기 전에 .. \n",
        "\n",
        "```\n",
        "#### 기말고사 규칙:\n",
        "- 기말고사는 오픈북 형태로서 수업시간 자료와 외부 자료를 모두 조회, 참고 가능합니다. \n",
        "- 인터넷 검색도 가능하지만 타인과의 정보교환은 엄격히 금합니다. 적발시 바로 부정행위로 조치합니다. \n",
        "- 수험 시간은 시작 이후 1시간 20분까지입니다. \n",
        "- 점수는 작성하신 프로그램중에 가장 난이도가 높은 프로그램으로 반영됩니다. 그러므로 가장 난이도가 높은 프로그램 하나만 정확히 작성하셔도 만점입니다. \n",
        "- 어려운 문제에 매달리다 실패하는 위험을 줄이기 위해 자신있는 문제를 먼저 푸시고 도전할만한 문제를 푸시는걸 추천드립니다. \n",
        "- 수업시간에 알려드린 방식과 다르거나 지나치게 유사한 답안이 존재할 경우  본인이 푸신걸 확인하기 위한 절차를 요청할 수 있습니다. 이때 설명을 못하시면 부정시험으로 간주합니다. \n",
        "```\n",
        "\n",
        "다음은 여러분들의 편의를 위한 시험에 사용되는 라이브러리 import 코드입니다."
      ]
    },
    {
      "cell_type": "code",
      "metadata": {
        "id": "0tumAWenOMnW"
      },
      "source": [
        "import numpy as np \n",
        "import matplotlib.pyplot as plt \n",
        "import math\n",
        "import pandas as pd"
      ],
      "execution_count": 19,
      "outputs": []
    },
    {
      "cell_type": "markdown",
      "metadata": {
        "id": "gbs21zbzDXG2"
      },
      "source": [
        "\n",
        "\n",
        "# 2021 학년도 컴퓨터실습2 기말고사 (실습2과정)\n",
        "<br>\n"
      ]
    },
    {
      "cell_type": "markdown",
      "metadata": {
        "id": "d7g_EN6H0NQ-"
      },
      "source": [
        "---\n",
        "<br><br><br>\n",
        "\n",
        "#### 문제 1. 다음은 학생의 정보를 저장하는 클래스입니다. 다음과 형태로 출력이 가능하도록 info 메소드를 작성하세요 [60점]\n",
        "```\n",
        "stu1 = Student(\"곽주현\", \"970038\") \n",
        "print( stu1.info() ) \n",
        "->\n",
        "studnent name:곽주현 student no:970038\n",
        "\n",
        "```"
      ]
    },
    {
      "cell_type": "code",
      "metadata": {
        "id": "hPTeESBhDKi8"
      },
      "source": [
        "# 클래스 정의 코드\n",
        "class Student:  \n",
        "  def __init__(self, name, stuno):\n",
        "    self.name = name\n",
        "    self.stuno = stuno \n",
        "\n",
        "# 메소드 info 를 여기에 작성하세요\n",
        "  def info(self):\n",
        "    return  \"studnent name:\" + self.name + \" student no:\" + self.stuno\n",
        "\n",
        "\n",
        "# 클래스 사용코드\n",
        "stu1 = Student(\"곽주현\", \"970038\") \n",
        "print( stu1.info() ) "
      ],
      "execution_count": null,
      "outputs": []
    },
    {
      "cell_type": "markdown",
      "metadata": {
        "id": "MUHuRKXeEF4Q"
      },
      "source": [
        "---\n",
        "<Br><Br><Br>\n",
        "\n",
        "#### 문제 2. 다음과 형태로 ndarray 배열을 만드세요 [70점]\n",
        "```\n",
        "[[0 1 2 0 1]\n",
        " [2 0 1 2 0]\n",
        " [1 2 0 1 2]\n",
        " [0 1 2 0 1]\n",
        " [2 0 1 2 0]]\n",
        "```\n",
        "\n",
        "\n"
      ]
    },
    {
      "cell_type": "code",
      "metadata": {
        "id": "DPPNykWIEFlI",
        "colab": {
          "base_uri": "https://localhost:8080/"
        },
        "outputId": "bc019db0-ab1c-4861-f206-cb2951d2fba4"
      },
      "source": [
        "# 문제의 형태가 되도록 배열 a 를 만드세요\n",
        "a = np.arange(25) % 3\n",
        "a = a.reshape(-1,5) \n",
        "\n",
        "# 출력\n",
        "print(a)\n",
        "\n"
      ],
      "execution_count": 17,
      "outputs": [
        {
          "output_type": "stream",
          "text": [
            "[[0 1 2 0 1]\n",
            " [2 0 1 2 0]\n",
            " [1 2 0 1 2]\n",
            " [0 1 2 0 1]\n",
            " [2 0 1 2 0]]\n"
          ],
          "name": "stdout"
        }
      ]
    },
    {
      "cell_type": "markdown",
      "metadata": {
        "id": "_J7PlCbqx_ZC"
      },
      "source": [
        "---\n",
        "<Br><Br><Br>\n",
        "\n",
        "#### 문제 3. 다음 pandas 데이터 에서 ash 를 x 축, Water 를 y축으로 화면에 점으로 표시해 plot 으로 출력해보세요 [80점]\n",
        "\n",
        "\n"
      ]
    },
    {
      "cell_type": "code",
      "metadata": {
        "id": "T5jDxu0nyNax"
      },
      "source": [
        "# pandas 데이터 불러오기\n",
        "df = pd.read_csv('https://archive.ics.uci.edu/ml/machine-learning-databases/concrete/slump/slump_test.data')\n",
        "df\n",
        "\n",
        "# plot 출력을 작성하세요\n",
        "x = df['Fly ash'].values\n",
        "y = df['Water'].values\n",
        "\n",
        "plt.plot(x,y,'.')"
      ],
      "execution_count": null,
      "outputs": []
    },
    {
      "cell_type": "markdown",
      "metadata": {
        "id": "JOs6k1PgEGCl"
      },
      "source": [
        "\n",
        "\n",
        "---\n",
        "\n",
        "\n",
        "<Br><Br><Br>\n",
        "\n",
        "#### 문제 4. matplotlib의 plot 을 사용해서 다음 형태를 그려보세요 [90점]\n",
        "\n",
        "<img src = 'http://drive.google.com/uc?export=view&id=1Qoqw_yLV9TArxqPmZO_6aF1a_veVpN3S'>"
      ]
    },
    {
      "cell_type": "code",
      "metadata": {
        "id": "FISlsBJbEGCm"
      },
      "source": [
        "# 문제의 코드를 여기에 작성하세요\n",
        "import math\n",
        "n, theta = 40, []  \n",
        "\n",
        "for i in range(n + 1): \n",
        "  theta += [ math.pi * 2 / n * i ]\n",
        "\n",
        "\n",
        "x,y = [],[]\n",
        "for th in theta:\n",
        "  x += [  math.sin(th), 0]\n",
        "  y += [  math.cos(th), 0]\n",
        "\n",
        "\n",
        "plt.xlim( -1.6, 1.6)\n",
        "plt.ylim( -1, 1 )\n",
        "plt.plot(x,y, '-o')\n"
      ],
      "execution_count": null,
      "outputs": []
    },
    {
      "cell_type": "markdown",
      "metadata": {
        "id": "9ibiE676bDLq"
      },
      "source": [
        "---\n",
        "<Br><Br><Br>\n",
        "\n",
        "#### 문제 5. 다음 형태의 딕셔너리에서 최대값까지의 경로의 키값과 배열과 최대값을 같이 리턴하는 재귀함수 maxPath를 작성하세요 [100점]\n",
        "\n",
        "dic 형태:\n",
        "```\n",
        " a : 1\n",
        " b : 2\n",
        " c :\n",
        "    c1 : 3\n",
        "    c2 :\n",
        "       c21 : 21\n",
        "       c22 : 27\n",
        " d :\n",
        "    d1 : 4\n",
        "```\n",
        "\n",
        "출력:\n",
        "```\n",
        "print( maxPath(nest) )\n",
        "-:\n",
        "(['c', 'c2', 'c22'], 27)\n"
      ]
    },
    {
      "cell_type": "code",
      "metadata": {
        "id": "GO3EptKmbDMB"
      },
      "source": [
        "# 데이터 ( 최대값의 위치를 바꿔서 테스트 해보세요 )\n",
        "nest = { \"a\":1, \n",
        "        \"b\":2,\n",
        "        \"c\":{\n",
        "          \"c1\":3,\n",
        "          \"c2\":{\n",
        "            \"c21\":21,\n",
        "            \"c22\":27\n",
        "          }        \n",
        "        },\n",
        "        \"d\":{\n",
        "            \"d1\":4,\n",
        "            \"d2\":5\n",
        "        }\n",
        "\n",
        "      }\n",
        "\n",
        "def maxPath(dic) :\n",
        "  path,max  = [],0\n",
        "  # 재귀함수 maxPath 의 코드를 여기에 작성하세요\n",
        "  \n",
        "  for k in dic:\n",
        "    if type( dic[k] ) == dict : \n",
        "      cpath,cmax = maxPath( dic[k] ) # 하위 함수로부터 path 와 max 값을 받아서\n",
        "      if cmax > max :    # 방금 받은 자식의 max 값이 기존보다 더 크면\n",
        "        path = [k] + cpath    # 자식의 path 에 자신의 key 값을 더해서 새로운 path 로 교체 \n",
        "        max = cmax\n",
        "    else :\n",
        "      if dic[k] > max:\n",
        "        path = [k]\n",
        "        max = dic[k]\n",
        "\n",
        "  # 2개의 값을 동시 리턴 \n",
        "  return path,max # 스스로도 path 와 max 값을 리턴함\n",
        "\n",
        "print( maxPath(nest) )"
      ],
      "execution_count": null,
      "outputs": []
    },
    {
      "cell_type": "markdown",
      "metadata": {
        "id": "7DZqGQXERPMA"
      },
      "source": [
        "\n",
        "### 제출 시 참고 : \n",
        "- 과제 제출은 작성하신 colab을 [파일 > 다운로드 > ipynb] 메뉴를 통해 파일로 다운 받으신 후에 사이버캠퍼스 [기말고사 제출] 이라는 과제에 업로드하셔야 합니다.\n",
        "- 웹브라우저(크롬, ie, 엣지 파폭)의 메뉴가 아닌 colab 에 있는 다운로드를 사용하셔야 정상적으로 ipynb 로 다운로드 됩니다. \n"
      ]
    }
  ]
}