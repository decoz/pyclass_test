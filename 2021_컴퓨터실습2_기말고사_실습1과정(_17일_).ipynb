{
  "nbformat": 4,
  "nbformat_minor": 0,
  "metadata": {
    "colab": {
      "name": "2021_컴퓨터실습2_기말고사_실습1과정( 17일 ).ipynb",
      "provenance": [],
      "collapsed_sections": [
        "7DZqGQXERPMA"
      ],
      "toc_visible": true
    },
    "kernelspec": {
      "name": "python3",
      "display_name": "Python 3"
    },
    "language_info": {
      "name": "python"
    }
  },
  "cells": [
    {
      "cell_type": "markdown",
      "metadata": {
        "id": "H4iSXaD3INl3"
      },
      "source": [
        "## 푸시기 전에 .. \n",
        "\n",
        "```\n",
        "#### 기말고사 규칙:\n",
        "- 기말고사는 오픈북 형태로서 수업시간 자료와 외부 자료를 모두 조회, 참고 가능합니다. \n",
        "- 인터넷 검색도 가능하지만 타인과의 정보교환은 엄격히 금합니다. 적발시 바로 부정행위로 조치합니다. \n",
        "- 수험 시간은 시작 이후 1시간 20분까지입니다. \n",
        "- 점수는 작성하신 프로그램중에 가장 난이도가 높은 프로그램으로 반영됩니다. 그러므로 가장 난이도가 높은 프로그램 하나만 정확히 작성하셔도 만점입니다. \n",
        "- 어려운 문제에 매달리다 실패하는 위험을 줄이기 위해 자신있는 문제를 먼저 푸시고 도전할만한 문제를 푸시는걸 추천드립니다. \n",
        "- 수업시간에 알려드린 방식과 다르거나 지나치게 유사한 답안이 존재할 경우  본인이 푸신걸 확인하기 위한 절차를 요청할 수 있습니다. 이때 설명을 못하시면 부정시험으로 간주합니다. \n",
        "```\n",
        "\n",
        "다음은 여러분들의 편의를 위한 시험에 사용되는 라이브러리 import 코드입니다."
      ]
    },
    {
      "cell_type": "code",
      "metadata": {
        "id": "0tumAWenOMnW"
      },
      "source": [
        "from PIL import Image\n",
        "from IPython.display import display\n",
        "import numpy as np\n",
        "from urllib import request\n",
        "import math"
      ],
      "execution_count": null,
      "outputs": []
    },
    {
      "cell_type": "markdown",
      "metadata": {
        "id": "gbs21zbzDXG2"
      },
      "source": [
        "\n",
        "\n",
        "# 2021 학년도 컴퓨터실습2 기말고사 (실습1과정)\n",
        "<br>\n"
      ]
    },
    {
      "cell_type": "markdown",
      "metadata": {
        "id": "d7g_EN6H0NQ-"
      },
      "source": [
        "---\n",
        "<br><br><br>\n",
        "\n",
        "#### 문제 1. 1부터 n까지의 누적값을 더하는 함수 nsum 을 만드세요 [60점]\n",
        "\n",
        "예\n",
        "```\n",
        "print( nsum(10) )\n",
        "->\n",
        "55\n",
        "\n",
        "```"
      ]
    },
    {
      "cell_type": "code",
      "metadata": {
        "id": "hPTeESBhDKi8"
      },
      "source": [
        "def nsum(n):\n",
        "  # 함수의 내용을 작성하세요\n",
        "\n",
        "  \n",
        "# 사용 예\n",
        "print( nsum(10) )"
      ],
      "execution_count": null,
      "outputs": []
    },
    {
      "cell_type": "markdown",
      "metadata": {
        "id": "vqlhCS8unNHL"
      },
      "source": [
        "---\n",
        "<br><br><br>\n",
        "\n",
        "#### 문제 2. 문자열에서 시작글자와 끝글자 글자 사이의 문자열을 리턴하는 함수 substr(str, s, e) 를 작성해보세요 [70점]\n",
        "\n",
        "예\n",
        "```\n",
        "s = \"abcdef1234\"\n",
        "print(substr(s, 'c', '2' )\n",
        "->\n",
        "cdef12\n",
        "```\n",
        "\n",
        "시작 글자가 없으면 빈 문자열을, 끝글자가 없으면 문자열 끝까지를 리턴하게 하세요\n",
        "\n",
        "```\n",
        "substr(s, 'x', 'z')  -> ''\n",
        "substr(s, '1', '9')  -> '1234'\n",
        "```\n"
      ]
    },
    {
      "cell_type": "code",
      "metadata": {
        "id": "BNAkuzxTnNHf"
      },
      "source": [
        "def substr(str, s, e):\n",
        "  # 함수의 내용을 작성하세요\n",
        "\n",
        "\n",
        "\n",
        "# 함수 테스트 코드\n",
        "s = \"abcdef1234\"\n",
        "print(substr(s, 'c', '2' ))\n",
        "  "
      ],
      "execution_count": null,
      "outputs": []
    },
    {
      "cell_type": "markdown",
      "metadata": {
        "id": "_J7PlCbqx_ZC"
      },
      "source": [
        "---\n",
        "<Br><Br><Br>\n",
        "\n",
        "#### 문제 3. 다음 200x200 이 이미지 배열 arr  다음과 같이 출력되도록 작성하세요  [70점]\n",
        "\n",
        "<img src = 'http://drive.google.com/uc?export=view&id=1_MoywYrbmRqNJH1DlsvvwdKjlJXhBObM' >\n",
        "\n"
      ]
    },
    {
      "cell_type": "code",
      "metadata": {
        "id": "IeBUKlTEtoJE"
      },
      "source": [
        "# 200 x 200 이미지 배열 생성\n",
        "arr = np.zeros((200,200))\n",
        "\n",
        "# 문제의 코드를 작성하세요\n",
        "\n",
        "# 이미지로 출력\n",
        "display( Image.fromarray( np.array(arr).astype('uint8') , 'L' ) )"
      ],
      "execution_count": null,
      "outputs": []
    },
    {
      "cell_type": "markdown",
      "metadata": {
        "id": "MUHuRKXeEF4Q"
      },
      "source": [
        "---\n",
        "<Br><Br><Br>\n",
        "\n",
        "#### 문제 4. 문자와 숫자만으로 이뤄진 임읭의 문자열에서 문자 혹은 숫자가 연결된 갯수들를 출력하는 코드를 작성하세요 [90점]\n",
        "\n",
        "예:\n",
        "```\n",
        "\"ab123cc4\"\n",
        "->\n",
        "2 3 2 1 \n",
        "```\n",
        "\n",
        "\n"
      ]
    },
    {
      "cell_type": "code",
      "metadata": {
        "id": "DPPNykWIEFlI"
      },
      "source": [
        "#문자열을 바꾸면서 테스트해보세요\n",
        "s = \"ab123cc4\"\n",
        "\n",
        "# 문제의 코드를 작성하세요\n",
        "\n",
        "\n",
        "\n"
      ],
      "execution_count": null,
      "outputs": []
    },
    {
      "cell_type": "markdown",
      "metadata": {
        "id": "6XjqeV16w3QU"
      },
      "source": [
        "---\n",
        "<Br><Br><Br>\n",
        "\n",
        "#### 문제 5. 다음 이미지를 다음과 같이 바꿔보세요 [70점]\n",
        "\n",
        "이미지 로딩코드를 실행한 후에 \n"
      ]
    },
    {
      "cell_type": "code",
      "metadata": {
        "id": "TO7HxXaK5gFM"
      },
      "source": [
        "# 이미지 로딩 코드 \n",
        "url = 'https://modo-phinf.pstatic.net/20180727_74/1532650362069lanVs_JPEG/mosadYIhbW.jpeg?type=round256_256'\n",
        "img = Image.open(request.urlopen(url) )\n",
        "display(img)"
      ],
      "execution_count": null,
      "outputs": []
    },
    {
      "cell_type": "markdown",
      "metadata": {
        "id": "RQ0MGCsG8gY5"
      },
      "source": [
        "위의 이미지를 이런 형태로 변형하세요\n",
        "\n",
        "> <img src='http://drive.google.com/uc?export=view&id=1r4qkMYS5wFPbwDGbg950PfzLC7XPQNZn' /><br>\n"
      ]
    },
    {
      "cell_type": "code",
      "metadata": {
        "id": "AA34xyx-w3QU"
      },
      "source": [
        "# 이미지 크기를 구한 후에 배열로 변환\n",
        "w,h  = img.size\n",
        "arr = np.array(img)[:,:,:3]\n",
        "\n",
        "# 문제의 코드를 작성하세요\n",
        "\n",
        "\n",
        "# 이미지로 출력\n",
        "display( Image.fromarray( np.array(arr) ) )"
      ],
      "execution_count": null,
      "outputs": []
    },
    {
      "cell_type": "markdown",
      "metadata": {
        "id": "7DZqGQXERPMA"
      },
      "source": [
        "\n",
        "### 제출 시 참고 : \n",
        "- 과제 제출은 작성하신 colab의 [파일 > 다운로드 > ipynb] 메뉴를 통해 파일로 다운 받으신 후에 사이버캠퍼스 [기말고사 제출] 이라는 과제에 업로드하셔야 합니다.\n",
        "- 웹브라우저(크롬, ie, 엣지 파폭)의 메뉴가 아닌 colab 에 있는 다운로드를 사용하셔야 정상적으로 ipynb 로 다운로드 됩니다. \n"
      ]
    }
  ]
}