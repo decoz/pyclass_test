{
  "nbformat": 4,
  "nbformat_minor": 0,
  "metadata": {
    "colab": {
      "name": "2021  컴퓨터실습2 중간고사_실습2과정(23일).ipynb",
      "provenance": [],
      "collapsed_sections": []
    },
    "kernelspec": {
      "name": "python3",
      "display_name": "Python 3"
    },
    "language_info": {
      "name": "python"
    }
  },
  "cells": [
    {
      "cell_type": "markdown",
      "metadata": {
        "id": "H4iSXaD3INl3"
      },
      "source": [
        "## 푸시기 전에 .. \n",
        "\n",
        "```\n",
        "#### 중간고사 규칙:\n",
        "- 중간고사는 오픈북 형태로서 수업시간 자료와 외부 자료를 모두 조회, 참고 가능합니다. \n",
        "- 인터넷 검색도 가능하지만 타인과의 정보교환은 엄격히 금합니다. 적발시 바로 부정행위로 조치합니다. \n",
        "- 수험 시간은 3시 20분까지입니다. \n",
        "- 점수는 작성하신 프로그램중에 가장 난이도가 높은 프로그램으로 반영됩니다. 그러므로 가장 난이도가 높은 프로그램 하나만 정확히 작성하셔도 만점입니다. \n",
        "- 쉬운 프로그램을 채점 받은 후에 다시 난이도 높은 프로그램을 재 채점 받으셔도 됩니다.\n",
        "```\n"
      ]
    },
    {
      "cell_type": "markdown",
      "metadata": {
        "id": "gbs21zbzDXG2"
      },
      "source": [
        "<hr> \n",
        "\n",
        "# 2021 학년도 컴퓨터실습2 중간고사 (실습2과정)\n",
        "<br>\n",
        "\n",
        "#### 문제 1. 3개의 값 a,b,c 중에 가장 큰 값을 리턴하는 max3(a,b,c)를 만드세요 [30점]\n",
        "```\n",
        "예: \n",
        "print( max3(3,5,2) )\n",
        "->\n",
        "5\n",
        "```"
      ]
    },
    {
      "cell_type": "code",
      "metadata": {
        "id": "hPTeESBhDKi8"
      },
      "source": [
        "\n",
        "def max3(a,b,c):\n",
        "  _\n",
        "  # 문제 1 함수 코드를 작성하세요\n",
        "\n",
        "\n",
        "# 출력 (숫자를 바꾸며 테스트해보세요)\n",
        "print( max3(3,5,2))"
      ],
      "execution_count": null,
      "outputs": []
    },
    {
      "cell_type": "markdown",
      "metadata": {
        "id": "JOs6k1PgEGCl"
      },
      "source": [
        "\n",
        "\n",
        "---\n",
        "\n",
        "\n",
        "<Br><Br><Br>\n",
        "\n",
        "#### 문제 2. 임의의 문자열에서 글자 2개씩 순서를 바꾼 문자열을 생성하고 출력 하세요 [40점]\n",
        "(홀수 길이의 문자열도 가능해야 함, 짝수만 될 경우 2점 감점)\n",
        "```\n",
        "예 : \n",
        "\"abcdefg\"\n",
        "->\n",
        "badcfeg\n",
        "\n",
        "```"
      ]
    },
    {
      "cell_type": "code",
      "metadata": {
        "id": "FISlsBJbEGCm"
      },
      "source": [
        "s = \"abcdefg\"\n",
        "s2 = \"\"\n",
        "# 문제 1 코드를 작성하세요\n",
        "\n",
        "    \n",
        "print(s2)"
      ],
      "execution_count": null,
      "outputs": []
    },
    {
      "cell_type": "markdown",
      "metadata": {
        "id": "HsUzyANBbUpc"
      },
      "source": [
        "\n",
        "##<font color = 'red'> <문제 3-4번용 이미지 로딩 >\n",
        "\n",
        "아래에는 이미지문제를 위해 시험용 샘플이미지 로딩 코드입니다.  아래 문제를 풀기전에 반드시 실행하고 시작해주세요\n",
        "</font>\n"
      ]
    },
    {
      "cell_type": "code",
      "metadata": {
        "id": "Zl7Qk2afbudB"
      },
      "source": [
        "from PIL import Image\n",
        "from IPython.display import display\n",
        "import numpy as np \n",
        "from urllib import request\n",
        "\n",
        "# 이미지 열고 출력\n",
        "img = Image.open(request.urlopen(\"https://github.com/decoz/pyclass_test/blob/main/images/cat.jpg?raw=true\") )\n",
        "display(img)\n",
        "print(\"size:\",img.size)\n"
      ],
      "execution_count": null,
      "outputs": []
    },
    {
      "cell_type": "markdown",
      "metadata": {
        "id": "MUHuRKXeEF4Q"
      },
      "source": [
        "<Br><Br><Br>\n",
        "\n",
        "#### 문제 3. 이미지를 아래와 같이 변형하세요 [50점]\n",
        "\n",
        "<img src = \"https://github.com/decoz/pyclass_test/blob/main/images/cat_x.png?raw=true\">\n",
        "\n"
      ]
    },
    {
      "cell_type": "code",
      "metadata": {
        "id": "DPPNykWIEFlI"
      },
      "source": [
        "# 이미지를 배열 arr 로 변환\n",
        "w, h = img.size\n",
        "arr = np.array(img).reshape(h, w, 3)\n",
        "\n",
        "# 문제 3의 코드를 작성하세요\n",
        "\n",
        "\n",
        "\n",
        "\n",
        "# 이미지 출력\n",
        "display(Image.fromarray(arr))\n",
        "\n"
      ],
      "execution_count": null,
      "outputs": []
    },
    {
      "cell_type": "markdown",
      "metadata": {
        "id": "9ibiE676bDLq"
      },
      "source": [
        "<Br><Br><Br>\n",
        "\n",
        "#### 문제 4. 이미지에 특정 영역(x,y,w,h) 의 값을 입력받아 그 영역만 이미지를 출력하는 함수를 clip(img, x, y, w, h) 를 만드세요 [60점]\n",
        "\n",
        "```\n",
        "예: \n",
        "clip(img, 0, 0, 200, 100) \n",
        "```\n",
        "<img src = \"https://github.com/decoz/pyclass_test/blob/main/images/cat_clip.png?raw=true\">\n",
        "\n",
        "\n",
        "```\n",
        "> 참고 : 크기가 w, h  인 새로운 빈 이미지 배열을 손쉽게 만드는 방법 \n",
        "narr = np.zeros((h,w,3)).astype('uint8')\n",
        "```\n",
        "\n"
      ]
    },
    {
      "cell_type": "code",
      "metadata": {
        "id": "GO3EptKmbDMB"
      },
      "source": [
        "def clip(img, x, y, w, h):\n",
        "  _\n",
        "  # 문제 4의 함수 코드를 작성하세요\n",
        "\n",
        "  \n",
        "\n",
        "# 호출 ( 크기를 바꾸면서 시험해보세요 단 크기가 256,256을 넘지 안도록 조심하세요)\n",
        "clip(img, 0, 0, 200, 100)\n"
      ],
      "execution_count": null,
      "outputs": []
    },
    {
      "cell_type": "markdown",
      "metadata": {
        "id": "7DZqGQXERPMA"
      },
      "source": [
        "\n",
        "### 제출 시 참고 : \n",
        "- 과제 제출은 작성하신 colab을 [파일 > 다운로드 > ipynb] 메뉴를 통해 파일로 다운 받으신 후에 사이버캠퍼스 [중간고사 제출] 이라는 과제에 업로드하셔야 합니다.\n",
        "- 웹브라우저(크롬, ie, 엣지 파폭)의 메뉴가 아닌 colab 에 있는 다운로드를 사용하셔야 정상적으로 ipynb 로 다운로드 됩니다. \n"
      ]
    }
  ]
}