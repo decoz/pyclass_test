{
  "nbformat": 4,
  "nbformat_minor": 0,
  "metadata": {
    "colab": {
      "name": "[답안] 2021년도 컴퓨터실습1_기말고사(18일).ipynb",
      "provenance": [],
      "collapsed_sections": []
    },
    "kernelspec": {
      "name": "python3",
      "display_name": "Python 3"
    }
  },
  "cells": [
    {
      "cell_type": "markdown",
      "metadata": {
        "id": "Bkj26YclUuKK"
      },
      "source": [
        "\n",
        "\n",
        "# 2021 학년도 1학기 컴퓨터실습 기말고사\n",
        "\n",
        "```\n",
        "#### 기말고사 규칙:\n",
        "- 라이브러리나 함수의 도움 없이 기본적인 문법으로 문제를 해결하셔야합니다. 타입변환(str, int등), 배열의 카피(arr.copy()) 등 수업시간에 사용된 함수는 가능합니다. \n",
        "- 푸신 문제중에 가장 난이도가 높은 문제를 기준으로 점수 평가가 됩니다. \n",
        "- 최고 난이도 한 문제만 푸셔도 만점입니다. \n",
        "- 한 문제에 매달리다 실패하는 위험을 줄이기 위해 자신있는 문제를 먼저 푸시고 도전할만한 문제를 푸시는걸 추천드립니다. \n",
        "- 소스를 실행했을때 실행이 되어야 합니다. \n",
        "- 수험 시간은 시작 이후 1시간 20분까지입니다. \n",
        "- 반드시 ipynb 파일로 다운받아 과제에 업로드하셔야 합니다.  \n",
        "- 수업시간에 알려드린 방식과 다르거나 지나치게 유사한 답안이 존재할 경우  본인이 푸신걸 확인하기 위한 절차를 요청할 수 있습니다. 이때 설명을 못하시면 부정시험으로 간주합니다. \n",
        "```\n",
        " <hr> \n"
      ]
    },
    {
      "cell_type": "markdown",
      "metadata": {
        "id": "wtNOvbszaTWx"
      },
      "source": [
        "## 배열 관련\n",
        "\n",
        "\n",
        "#### 문제 1 : 임의의 배열에서 최대값의 인덱스번호를 출력하세요  [60점]\n",
        "\n",
        "예\n",
        "```\n",
        "arr = [1,4,2,3]\n",
        "-> 1\n",
        "\n",
        "arr = [1,4,2,5,7,10,8]\n",
        "-> 5\n",
        "\n",
        "```\n",
        "\n"
      ]
    },
    {
      "cell_type": "code",
      "metadata": {
        "id": "BZgxwxuobc0F",
        "colab": {
          "base_uri": "https://localhost:8080/"
        },
        "outputId": "104f696d-6bc7-4f00-b014-29c9208d249d"
      },
      "source": [
        "# 배열의 크기와 값를 바꾸며 테스트해보세요\n",
        "arr = [1,4,2,5,7,10,8]\n",
        "\n",
        "# 문제 1의 코드를 작성하세요\n",
        "max, maxi = arr[0], 0\n",
        "for i in range( 1, len(arr) ):  \n",
        "  if arr[i] > max :   \n",
        "    max,maxi = arr[i],i\n",
        "\n",
        "print(maxi)\n"
      ],
      "execution_count": 4,
      "outputs": [
        {
          "output_type": "stream",
          "text": [
            "5\n"
          ],
          "name": "stdout"
        }
      ]
    },
    {
      "cell_type": "markdown",
      "metadata": {
        "id": "RkAZyz1itxV3"
      },
      "source": [
        "\n",
        "<Br><Br><Br>\n",
        "#### 문제 2 : 4,4 인 임의의 2차원 배열에서 홀수번째 열의 합산값을 출력하는 코드를 작성하세요 [70점]\n",
        "\n",
        "예:\n",
        "```\n",
        "[ [0,4,1,3],\n",
        "  [1,2,5,2],\n",
        "  [2,3,2,1],\n",
        "  [1,4,2,3]\n",
        "]\n",
        "-> \n",
        "  0 + 1 + 2 + 1\n",
        "+ 1 + 5 + 2 + 2\n",
        "\n",
        "출력 :\n",
        "14\n",
        "```\n",
        "\n"
      ]
    },
    {
      "cell_type": "code",
      "metadata": {
        "id": "hueXFbeKtxV5",
        "colab": {
          "base_uri": "https://localhost:8080/"
        },
        "outputId": "9c85380e-98ce-48ec-8d7e-ce1c3105a4a0"
      },
      "source": [
        "# 예제 배열\n",
        "arr = [ [0,4,1,3],\n",
        "        [1,2,5,2],\n",
        "        [2,3,2,1],\n",
        "        [1,4,2,3]\n",
        "      ]\n",
        "\n",
        "# 문제2의 코드를 작성하세요\n",
        "sum = 0\n",
        "for r in range(4):  \n",
        "  for c in range(4):\n",
        "    if r % 2 == 0 : \n",
        "      sum += arr[c][r]\n",
        "\n",
        "print(sum)\n"
      ],
      "execution_count": 6,
      "outputs": [
        {
          "output_type": "stream",
          "text": [
            "14\n"
          ],
          "name": "stdout"
        }
      ]
    },
    {
      "cell_type": "markdown",
      "metadata": {
        "id": "D9wUo4xIb_mO"
      },
      "source": [
        "\n",
        "<Br><Br><Br>\n",
        "#### 문제 2 : 다음과 같은 배열의 생성하세요 [70점]\n",
        "\n",
        "예\n",
        "```\n",
        "[0, 1, 2, 0, 1, 2, 0, 1, 2]\n",
        "[1, 2, 3, 1, 2, 3, 1, 2, 3]\n",
        "[2, 3, 4, 2, 3, 4, 2, 3, 4]\n",
        "[3, 4, 5, 3, 4, 5, 3, 4, 5]\n",
        "[4, 5, 6, 4, 5, 6, 4, 5, 6]\n",
        "[5, 6, 7, 5, 6, 7, 5, 6, 7]\n",
        "[6, 7, 8, 6, 7, 8, 6, 7, 8]\n",
        "[7, 8, 9, 7, 8, 9, 7, 8, 9]\n",
        "```\n",
        "\n"
      ]
    },
    {
      "cell_type": "code",
      "metadata": {
        "id": "l4Ztc5zFtwbr",
        "colab": {
          "base_uri": "https://localhost:8080/"
        },
        "outputId": "929f6f9d-d2c3-4367-cddd-b76cdd06c644"
      },
      "source": [
        "# 문제 2의 코드를 여기에 작성하세요\n",
        "arr = []\n",
        "for i in range(8):\n",
        "  tarr = [] \n",
        "  for j in range(9):\n",
        "    tarr += [i + j%3]\n",
        "  arr += [tarr]  \n",
        "\n",
        "# 출력\n",
        "for v in arr:\n",
        "  print(v)"
      ],
      "execution_count": 10,
      "outputs": [
        {
          "output_type": "stream",
          "text": [
            "[0, 1, 2, 0, 1, 2, 0, 1, 2]\n",
            "[1, 2, 3, 1, 2, 3, 1, 2, 3]\n",
            "[2, 3, 4, 2, 3, 4, 2, 3, 4]\n",
            "[3, 4, 5, 3, 4, 5, 3, 4, 5]\n",
            "[4, 5, 6, 4, 5, 6, 4, 5, 6]\n",
            "[5, 6, 7, 5, 6, 7, 5, 6, 7]\n",
            "[6, 7, 8, 6, 7, 8, 6, 7, 8]\n",
            "[7, 8, 9, 7, 8, 9, 7, 8, 9]\n"
          ],
          "name": "stdout"
        }
      ]
    },
    {
      "cell_type": "markdown",
      "metadata": {
        "id": "DfNOJTqGFKD9"
      },
      "source": [
        "<Br><Br><Br>\n",
        "<hr>\n",
        "\n",
        "##  이미지 관련 \n",
        "\n",
        "아래는 크기가 100x100 인 0으로 가득찬 2차원 배열을 생성해 이미지로 표현하는 코드입니다. 먼저 이를 실행한 후에 아래의 문제를 풀어보세요. \n",
        "\n",
        "\n",
        "\n"
      ]
    },
    {
      "cell_type": "code",
      "metadata": {
        "id": "l8Od24d-FKD_",
        "colab": {
          "base_uri": "https://localhost:8080/",
          "height": 117
        },
        "outputId": "0b0d341f-8e6e-4861-9236-a3e1001617ed"
      },
      "source": [
        "from PIL import Image\n",
        "from IPython.display import display\n",
        "import numpy as np\n",
        "\n",
        "arr = [] \n",
        "for i in range(100):\n",
        "  tarr = []\n",
        "  for j in range(100):\n",
        "    tarr = tarr + [0] \n",
        "  arr = arr + [tarr]\n",
        "\n",
        "display( Image.fromarray( np.array(arr).astype('uint8').reshape(100,100) , 'L' ) )"
      ],
      "execution_count": 12,
      "outputs": [
        {
          "output_type": "display_data",
          "data": {
            "image/png": "[encoded data removed]",
            "text/plain": [
              "<PIL.Image.Image image mode=L size=100x100 at 0x7F5CD8E61850>"
            ]
          },
          "metadata": {
            "tags": []
          }
        }
      ]
    },
    {
      "cell_type": "markdown",
      "metadata": {
        "id": "sRj-aQe_J_nc"
      },
      "source": [
        "<Br>\n",
        "\n",
        "#### 문제 4 : 아래와 같은 이미지가 출력되도록 반복문을 사용하여 배열값을 바꾸세요 [90점]\n",
        "\n",
        "<img src = 'http://drive.google.com/uc?export=view&id=1MpubvZ9wgTGVoSWCJqfSU2CFZg49B8C3'>"
      ]
    },
    {
      "cell_type": "code",
      "metadata": {
        "id": "TKn-oVvRvNCN",
        "colab": {
          "base_uri": "https://localhost:8080/",
          "height": 117
        },
        "outputId": "29f49e0c-0699-4e95-8ce0-56c05e8d11f0"
      },
      "source": [
        "# 배열 값 초기화\n",
        "for x in range(100):\n",
        "  for y in range(100):\n",
        "    arr[y][x] = 0 \n",
        "\n",
        "# 문제 4의 코드를 작성하세요\n",
        "for x in range(100):\n",
        "  for y in range(100):\n",
        "    if x % 10 > 2 and x % 10 < 8 :\n",
        "        if x % 10 == 5 or y % 10 == 5:\n",
        "          arr[y][x] = 255\n",
        "\n",
        "# 출력\n",
        "display( Image.fromarray( np.array(arr).astype('uint8').reshape(100,100) , 'L' ) )      "
      ],
      "execution_count": 36,
      "outputs": [
        {
          "output_type": "display_data",
          "data": {
            "image/png": "[encoded data removed]",
            "text/plain": [
              "<PIL.Image.Image image mode=L size=100x100 at 0x7F5CD8DAE250>"
            ]
          },
          "metadata": {
            "tags": []
          }
        }
      ]
    },
    {
      "cell_type": "markdown",
      "metadata": {
        "id": "C1eBDFKFUKBf"
      },
      "source": [
        "<Br><Br><Br>\n",
        "\n",
        "#### 문제 5 : 아래와 같은 이미지가 출력되도록 반복문을 사용해서 배열값을 바꾸세요 [100점]\n",
        "\n",
        "<img src='http://drive.google.com/uc?export=view&id=1WC6CBT4Pr9is-9erYXz0tEP4H7jAXaBL' /><br>"
      ]
    },
    {
      "cell_type": "code",
      "metadata": {
        "id": "YwNKeFzqP5qj",
        "colab": {
          "base_uri": "https://localhost:8080/",
          "height": 117
        },
        "outputId": "5586764c-3951-4bac-c898-ce3f1df1ed24"
      },
      "source": [
        "# 배열 값 초기화\n",
        "for x in range(100):\n",
        "  for y in range(100):\n",
        "    arr[y][x] = 0 \n",
        "\n",
        "# 문제 5의 코드를 작성하세요\n",
        "for x in range(100):\n",
        "  for y in range(100):    \n",
        "    arr[y][x] = 100 - (x % 25)*4 + 100 - (y % 25)*4\n",
        "    \n",
        "    \n",
        "# 출력    \n",
        "display( Image.fromarray( np.array(arr).astype('uint8').reshape(100,100) , 'L' ) )    "
      ],
      "execution_count": 40,
      "outputs": [
        {
          "output_type": "display_data",
          "data": {
            "image/png": "[encoded data removed]",
            "text/plain": [
              "<PIL.Image.Image image mode=L size=100x100 at 0x7F5CD8DB1510>"
            ]
          },
          "metadata": {
            "tags": []
          }
        }
      ]
    }
  ]
}